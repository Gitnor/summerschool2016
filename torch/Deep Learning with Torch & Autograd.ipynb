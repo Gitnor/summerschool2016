{
 "cells": [
  {
   "cell_type": "markdown",
   "metadata": {},
   "source": [
    "# Deep Learning with Torch and Torch Autograd\n",
    "\n",
    "(Much thanks to Soumith Chintala for providing intro material)"
   ]
  },
  {
   "cell_type": "markdown",
   "metadata": {},
   "source": [
    "### Goal of this talk\n",
    "* Understand torch and the neural networks package at a high-level.\n",
    "* Train a small neural network on CPU and GPU\n",
    "* Try out using autograd with your neural network"
   ]
  },
  {
   "cell_type": "markdown",
   "metadata": {},
   "source": [
    "## What is Torch?"
   ]
  },
  {
   "cell_type": "markdown",
   "metadata": {},
   "source": [
    "Torch is an scientific computing framework based on Lua[JIT] with strong CPU and CUDA backends.\n",
    "\n",
    "Strong points of Torch:\n",
    "\n",
    "* Efficient Tensor library (like NumPy) with an efficient CUDA backend\n",
    "* Neural Networks package -- build arbitrary acyclic computation graphs with automatic differentiation\n",
    "   * also with fast CUDA and CPU backends\n",
    "* Good community and industry support - several hundred community-built and maintained packages.\n",
    "* Easy to use Multi-GPU support and parallelizing neural networks\n",
    "\n",
    "http://torch.ch  \n",
    "https://github.com/torch/torch7/wiki/Cheatsheet"
   ]
  },
  {
   "cell_type": "markdown",
   "metadata": {},
   "source": [
    "## What is Torch Autograd?\n",
    "\n",
    "https://github.com/twitter/torch-autograd\n",
    "\n",
    "Torch autograd is an automatic differentiation package, that will automatically calculate derivatives of any differentiable Torch function for you. For some function \n",
    "```\n",
    "function f(params,...)\n",
    "out = f(..)\n",
    "``` \n",
    "with input `params` that is either a table of tensors, or a tensor, just call \n",
    "```\n",
    "g = grad(f)\n",
    "gradients, out = g(...)\n",
    "```\n",
    "to get a new function `g` that will return the output of `f`, along with the gradients of `f w.r.t. params`.\n",
    "\n",
    "Where `NN` and related packages are mostly restricted to backpropagating through static compute graphs, autograd has no such limitation."
   ]
  },
  {
   "cell_type": "markdown",
   "metadata": {},
   "source": [
    "## Before getting started"
   ]
  },
  {
   "cell_type": "markdown",
   "metadata": {},
   "source": [
    "* Based on Lua and runs on Lua-JIT (Just-in-time compiler) which is fast\n",
    "* Lua is pretty close to javascript.\n",
    "   * variables are global by default, unless `local` keyword is used\n",
    "* Only has one data structure built-in, a table: `{}`. Doubles as a hash-table and an array.\n",
    "* 1-based indexing.\n",
    "* `foo:bar()` is the same as `foo.bar(foo)`"
   ]
  },
  {
   "cell_type": "markdown",
   "metadata": {},
   "source": [
    "## Getting Started\n",
    "#### Strings, numbers, tables - a tiny introduction"
   ]
  },
  {
   "cell_type": "code",
   "execution_count": 1,
   "metadata": {
    "collapsed": false
   },
   "outputs": [],
   "source": [
    "a = 'hello'"
   ]
  },
  {
   "cell_type": "code",
   "execution_count": 2,
   "metadata": {
    "collapsed": false
   },
   "outputs": [
    {
     "data": {
      "text/plain": [
       "hello\t\n"
      ]
     },
     "execution_count": 2,
     "metadata": {},
     "output_type": "execute_result"
    }
   ],
   "source": [
    "print(a)"
   ]
  },
  {
   "cell_type": "code",
   "execution_count": 3,
   "metadata": {
    "collapsed": false
   },
   "outputs": [],
   "source": [
    "b = {}"
   ]
  },
  {
   "cell_type": "code",
   "execution_count": 4,
   "metadata": {
    "collapsed": false
   },
   "outputs": [],
   "source": [
    "b[1] = a"
   ]
  },
  {
   "cell_type": "code",
   "execution_count": 5,
   "metadata": {
    "collapsed": false
   },
   "outputs": [
    {
     "data": {
      "text/plain": [
       "{\n",
       "  1 : hello\n",
       "}\n"
      ]
     },
     "execution_count": 5,
     "metadata": {},
     "output_type": "execute_result"
    }
   ],
   "source": [
    "print(b)"
   ]
  },
  {
   "cell_type": "code",
   "execution_count": 6,
   "metadata": {
    "collapsed": false
   },
   "outputs": [],
   "source": [
    "b[2] = 30"
   ]
  },
  {
   "cell_type": "code",
   "execution_count": 7,
   "metadata": {
    "collapsed": false
   },
   "outputs": [
    {
     "data": {
      "text/plain": [
       "hello\t\n",
       "30\t\n"
      ]
     },
     "execution_count": 7,
     "metadata": {},
     "output_type": "execute_result"
    }
   ],
   "source": [
    "for i=1,#b do -- the # operator is the length operator in Lua\n",
    "    print(b[i]) \n",
    "end"
   ]
  },
  {
   "cell_type": "markdown",
   "metadata": {},
   "source": [
    "#### Tensors"
   ]
  },
  {
   "cell_type": "code",
   "execution_count": 8,
   "metadata": {
    "collapsed": false
   },
   "outputs": [],
   "source": [
    "a = torch.Tensor(5,3) -- construct a 5x3 matrix, uninitialized"
   ]
  },
  {
   "cell_type": "code",
   "execution_count": 9,
   "metadata": {
    "collapsed": false
   },
   "outputs": [
    {
     "data": {
      "text/plain": [
       " 0.6277  0.2322  0.0828\n",
       " 0.9762  0.5218  0.1150\n",
       " 0.8547  0.4211  0.6836\n",
       " 0.9151  0.7073  0.4151\n",
       " 0.3680  0.3476  0.6907\n",
       "[torch.DoubleTensor of size 5x3]\n",
       "\n"
      ]
     },
     "execution_count": 9,
     "metadata": {},
     "output_type": "execute_result"
    }
   ],
   "source": [
    "a = torch.rand(5,3)\n",
    "print(a)"
   ]
  },
  {
   "cell_type": "code",
   "execution_count": 10,
   "metadata": {
    "collapsed": false
   },
   "outputs": [],
   "source": [
    "b=torch.rand(3,4)"
   ]
  },
  {
   "cell_type": "code",
   "execution_count": 11,
   "metadata": {
    "collapsed": false
   },
   "outputs": [
    {
     "data": {
      "text/plain": [
       " 0.6952  0.3667  0.2881  0.3769\n",
       " 1.1848  0.7160  0.4963  0.6027\n",
       " 1.3309  0.8330  0.9682  0.9374\n",
       " 1.4295  1.0033  0.8370  0.8199\n",
       " 0.9045  0.6785  0.8524  0.7135\n",
       "[torch.DoubleTensor of size 5x4]\n",
       "\n"
      ]
     },
     "execution_count": 11,
     "metadata": {},
     "output_type": "execute_result"
    }
   ],
   "source": [
    "-- matrix-matrix multiplication: syntax 1\n",
    "a*b "
   ]
  },
  {
   "cell_type": "code",
   "execution_count": 12,
   "metadata": {
    "collapsed": false
   },
   "outputs": [
    {
     "data": {
      "text/plain": [
       " 0.6952  0.3667  0.2881  0.3769\n",
       " 1.1848  0.7160  0.4963  0.6027\n",
       " 1.3309  0.8330  0.9682  0.9374\n",
       " 1.4295  1.0033  0.8370  0.8199\n",
       " 0.9045  0.6785  0.8524  0.7135\n",
       "[torch.DoubleTensor of size 5x4]\n",
       "\n"
      ]
     },
     "execution_count": 12,
     "metadata": {},
     "output_type": "execute_result"
    }
   ],
   "source": [
    "-- matrix-matrix multiplication: syntax 2\n",
    "torch.mm(a,b) "
   ]
  },
  {
   "cell_type": "code",
   "execution_count": 13,
   "metadata": {
    "collapsed": false
   },
   "outputs": [],
   "source": [
    "-- matrix-matrix multiplication: syntax 3\n",
    "c=torch.Tensor(5,4)\n",
    "c:mm(a,b) -- store the result of a*b in c"
   ]
  },
  {
   "cell_type": "markdown",
   "metadata": {},
   "source": [
    "#### CUDA Tensors\n",
    "Tensors can be moved onto GPU using the :cuda function"
   ]
  },
  {
   "cell_type": "raw",
   "metadata": {
    "collapsed": false
   },
   "source": [
    "require 'cutorch';\n",
    "a = a:cuda()\n",
    "b = b:cuda()\n",
    "c = c:cuda()\n",
    "c:mm(a,b) -- done on GPU"
   ]
  },
  {
   "cell_type": "markdown",
   "metadata": {},
   "source": [
    "#### Exercise: Add two tensors"
   ]
  },
  {
   "cell_type": "code",
   "execution_count": 14,
   "metadata": {
    "collapsed": false
   },
   "outputs": [],
   "source": [
    "function addTensors(a,b)\n",
    "    return a -- FIX ME\n",
    "end"
   ]
  },
  {
   "cell_type": "code",
   "execution_count": 15,
   "metadata": {
    "collapsed": false
   },
   "outputs": [
    {
     "data": {
      "text/plain": [
       " 1  1\n",
       " 1  1\n",
       " 1  1\n",
       " 1  1\n",
       " 1  1\n",
       "[torch.DoubleTensor of size 5x2]\n",
       "\n"
      ]
     },
     "execution_count": 15,
     "metadata": {},
     "output_type": "execute_result"
    }
   ],
   "source": [
    "a = torch.ones(5,2)\n",
    "b = torch.Tensor(3,4):fill(4)\n",
    "print(addTensors(a,b))"
   ]
  },
  {
   "cell_type": "markdown",
   "metadata": {},
   "source": [
    "### Neural Networks\n",
    "Neural networks in Torch can be constructed using the `nn` package."
   ]
  },
  {
   "cell_type": "code",
   "execution_count": 16,
   "metadata": {
    "collapsed": false
   },
   "outputs": [],
   "source": [
    "require 'nn';"
   ]
  },
  {
   "cell_type": "markdown",
   "metadata": {},
   "source": [
    "`Modules` are the bricks used to build neural networks. Each are themselves neural networks, but can be combined with other networks using `containers` to create complex neural networks"
   ]
  },
  {
   "cell_type": "markdown",
   "metadata": {},
   "source": [
    "For example, look at this network that classfies digit images:\n",
    "![LeNet](http://fastml.com/images/cifar/lenet5.png)"
   ]
  },
  {
   "cell_type": "markdown",
   "metadata": {},
   "source": [
    "It is a simple feed-forward network.   \n",
    "It takes the input, feeds it through several layers one after the other, and then finally gives the output.\n",
    "\n",
    "Such a network container is `nn.Sequential` which feeds the input through several layers."
   ]
  },
  {
   "cell_type": "code",
   "execution_count": 17,
   "metadata": {
    "collapsed": false
   },
   "outputs": [
    {
     "data": {
      "text/plain": [
       "Lenet5\n",
       "nn.Sequential {\n",
       "  [input -> (1) -> (2) -> (3) -> (4) -> (5) -> (6) -> (7) -> (8) -> (9) -> output]\n",
       "  (1): nn.SpatialConvolution(1 -> 6, 5x5)\n",
       "  (2): nn.SpatialMaxPooling(2x2, 2,2)\n",
       "  (3): nn.SpatialConvolution(6 -> 16, 5x5)\n",
       "  (4): nn.SpatialMaxPooling(2x2, 2,2)\n",
       "  (5): nn.View(400)\n",
       "  (6): nn.Linear(400 -> 120)\n",
       "  (7): nn.Linear(120 -> 84)\n",
       "  (8): nn.Linear(84 -> 10)\n",
       "  (9): nn.LogSoftMax\n",
       "}\t\n"
      ]
     },
     "execution_count": 17,
     "metadata": {},
     "output_type": "execute_result"
    }
   ],
   "source": [
    "net = nn.Sequential()\n",
    "net:add(nn.SpatialConvolution(1, 6, 5, 5)) -- 1 input image channel, 6 output channels, 5x5 convolution kernel\n",
    "net:add(nn.SpatialMaxPooling(2,2,2,2))     -- A max-pooling operation that looks at 2x2 windows and finds the max.\n",
    "net:add(nn.SpatialConvolution(6, 16, 5, 5))\n",
    "net:add(nn.SpatialMaxPooling(2,2,2,2))\n",
    "net:add(nn.View(16*5*5))                    -- reshapes from a 3D tensor of 16x5x5 into 1D tensor of 16*5*5\n",
    "net:add(nn.Linear(16*5*5, 120))             -- fully connected layer (matrix multiplication between input and weights)\n",
    "net:add(nn.Linear(120, 84))\n",
    "net:add(nn.Linear(84, 10))                   -- 10 is the number of outputs of the network (in this case, 10 digits)\n",
    "net:add(nn.LogSoftMax())                     -- converts the output to a log-probability. Useful for classification problems\n",
    "\n",
    "print('Lenet5\\n' .. net:__tostring());"
   ]
  },
  {
   "cell_type": "markdown",
   "metadata": {},
   "source": [
    "Other examples of nn containers are shown in the figure below:\n",
    "![containers](https://raw.githubusercontent.com/soumith/ex/gh-pages/assets/nn_containers.png)\n",
    "\n",
    "Every neural network module in torch has its forward computation defined, as well as its partial derivatives.\n",
    "It has a `:forward(input)` function that computes the output for a given input, flowing the input through the network.\n",
    "and it has a `:backward(input, gradient)` function that will differentiate each neuron in the network w.r.t. the gradient that is passed in. This is done via the chain rule. Calling `forward` and `backward` on the whole model (e.g. the `nn.Sequential()` container) will compose all of the functions together to calculate `forward`, and calling `backward` will calculate the gradients of loss with respect to the inputs through all of the modules, using the chain rule."
   ]
  },
  {
   "cell_type": "code",
   "execution_count": 18,
   "metadata": {
    "collapsed": false
   },
   "outputs": [],
   "source": [
    "input = torch.rand(1,32,32) -- pass a random tensor as input to the network"
   ]
  },
  {
   "cell_type": "code",
   "execution_count": 19,
   "metadata": {
    "collapsed": false
   },
   "outputs": [],
   "source": [
    "output = net:forward(input)"
   ]
  },
  {
   "cell_type": "code",
   "execution_count": 24,
   "metadata": {
    "collapsed": false
   },
   "outputs": [
    {
     "data": {
      "text/plain": [
       "-2.1276\n",
       "-2.2508\n",
       "-2.3319\n",
       "-2.2379\n",
       "-2.4239\n",
       "-2.4516\n",
       "-2.2319\n",
       "-2.3223\n",
       "-2.3122\n",
       "-2.3793\n",
       "[torch.DoubleTensor of size 10]\n",
       "\n"
      ]
     },
     "execution_count": 24,
     "metadata": {},
     "output_type": "execute_result"
    }
   ],
   "source": [
    "print(output)"
   ]
  },
  {
   "cell_type": "code",
   "execution_count": 25,
   "metadata": {
    "collapsed": false
   },
   "outputs": [],
   "source": [
    "net:zeroGradParameters() -- zero the internal gradient buffers of the network (will come to this later)"
   ]
  },
  {
   "cell_type": "code",
   "execution_count": 26,
   "metadata": {
    "collapsed": false
   },
   "outputs": [],
   "source": [
    "gradInput = net:backward(input, torch.rand(10))"
   ]
  },
  {
   "cell_type": "code",
   "execution_count": 27,
   "metadata": {
    "collapsed": false
   },
   "outputs": [
    {
     "data": {
      "text/plain": [
       "  1\n",
       " 32\n",
       " 32\n",
       "[torch.LongStorage of size 3]\n",
       "\n"
      ]
     },
     "execution_count": 27,
     "metadata": {},
     "output_type": "execute_result"
    }
   ],
   "source": [
    "print(#gradInput)"
   ]
  },
  {
   "cell_type": "markdown",
   "metadata": {},
   "source": [
    "### Criterion: Defining a loss function\n",
    "When you want a model to learn to do something, you give it feedback on how well it is doing. This function that computes an objective measure of the model's performance is called a __loss function__.\n",
    "\n",
    "A typical loss function takes in the model's output and the groundtruth and computes a value that quantifies the model's performance.\n",
    "\n",
    "The model then corrects itself to have a smaller loss.\n",
    "\n",
    "In torch, loss functions are implemented just like neural network modules, and have automatic differentiation.  \n",
    "They have two functions - `forward(input, target)`, `backward(input, target)`\n",
    "\n",
    "For example:"
   ]
  },
  {
   "cell_type": "code",
   "execution_count": 28,
   "metadata": {
    "collapsed": false
   },
   "outputs": [],
   "source": [
    "criterion = nn.ClassNLLCriterion() -- a negative log-likelihood criterion for multi-class classification\n",
    "criterion:forward(output, 3) -- let's say the groundtruth was class number: 3\n",
    "gradients = criterion:backward(output, 3)"
   ]
  },
  {
   "cell_type": "code",
   "execution_count": 29,
   "metadata": {
    "collapsed": false
   },
   "outputs": [],
   "source": [
    "gradInput = net:backward(input, gradients)"
   ]
  },
  {
   "cell_type": "markdown",
   "metadata": {},
   "source": [
    "##### Review of what you learnt so far\n",
    "* Network can have many layers of computation\n",
    "* Network takes an input and produces an output in the :forward pass\n",
    "* Criterion computes the loss of the network, and it's gradients w.r.t. the output of the network.\n",
    "* Network takes an (input, gradients) pair in it's backward pass and calculates the gradients w.r.t. each layer (and neuron) in the network.\n",
    "\n",
    "##### Missing details\n",
    "> A neural network layer can have learnable parameters or not.\n",
    "\n",
    "A convolution layer learns it's convolution kernels to adapt to the input data and the problem being solved.  \n",
    "A max-pooling layer has no learnable parameters. It only finds the max of local windows.\n",
    "\n",
    "A layer in torch which has learnable weights, will typically have fields .weight (and optionally, .bias)"
   ]
  },
  {
   "cell_type": "code",
   "execution_count": 30,
   "metadata": {
    "collapsed": false
   },
   "outputs": [
    {
     "data": {
      "text/plain": [
       "(1,1,.,.) = \n",
       " -0.0940 -0.3883\n",
       " -0.3646 -0.2724\n",
       "\n",
       "(2,1,.,.) = \n",
       " -0.4547  0.2431\n",
       "  0.4920 -0.0782\n",
       "\n",
       "(3,1,.,.) = \n",
       "  0.0263 -0.2780\n",
       " -0.4802 -0.1994\n",
       "[torch.DoubleTensor of size 3x1x2x2]\n",
       "\n"
      ]
     },
     "execution_count": 30,
     "metadata": {},
     "output_type": "execute_result"
    }
   ],
   "source": [
    "m = nn.SpatialConvolution(1,3,2,2) -- learn 3 2x2 kernels\n",
    "print(m.weight) -- initially, the weights are randomly initialized"
   ]
  },
  {
   "cell_type": "code",
   "execution_count": 31,
   "metadata": {
    "collapsed": false
   },
   "outputs": [
    {
     "data": {
      "text/plain": [
       " 0.3663\n",
       " 0.3104\n",
       "-0.0375\n",
       "[torch.DoubleTensor of size 3]\n",
       "\n"
      ]
     },
     "execution_count": 31,
     "metadata": {},
     "output_type": "execute_result"
    }
   ],
   "source": [
    "print(m.bias) -- The operation in a convolution layer is: output = convolution(input,weight) + bias"
   ]
  },
  {
   "cell_type": "markdown",
   "metadata": {},
   "source": [
    "There are also two other important fields in a learnable layer. The gradWeight and gradBias.\n",
    "The gradWeight accumulates the gradients w.r.t. each weight in the layer, and the gradBias, w.r.t. each bias in the layer.\n",
    "\n",
    "#### Training the network\n",
    "\n",
    "For the network to adjust itself, it typically does this operation (if you do Stochastic Gradient Descent):\n",
    "> weight = weight + learningRate * gradWeight [equation 1]\n",
    "\n",
    "This update over time will adjust the network weights such that the output loss is decreasing."
   ]
  },
  {
   "cell_type": "markdown",
   "metadata": {},
   "source": [
    "Okay, now it is time to discuss one missing piece. Who visits each layer in your neural network and updates the weight according to Equation 1?\n",
    "\n",
    "There are multiple answers, but we will use the answer that gives us the most flexibility.\n",
    "We'll use `autograd` to join together the network and the loss function."
   ]
  },
  {
   "cell_type": "markdown",
   "metadata": {},
   "source": [
    "### What about data?\n",
    "Generally, when you have to deal with image, text, audio or video data, you can use standard functions like: [__image.load__](https://github.com/torch/image#res-imageloadfilename-depth-tensortype) or [__audio.load__](https://github.com/soumith/lua---audio#usage) to load your data into a _torch.Tensor_ or a Lua table, as convenient.\n",
    "\n",
    "Let us now use some simple data to train our network.\n",
    "\n",
    "We shall use the CIFAR-10 dataset, which has the classes: 'airplane', 'automobile', 'bird', 'cat', 'deer', 'dog', 'frog', 'horse', 'ship', 'truck'.  \n",
    "The images in CIFAR-10 are of size 3x32x32, i.e. 3-channel color images of 32x32 pixels in size.\n",
    "![CIFAR-10 image](https://raw.githubusercontent.com/soumith/ex/gh-pages/assets/cifar10.png)\n",
    "\n",
    "The dataset has 50,000 training images and 10,000 test images in total.\n",
    "\n",
    "__We now have 5 steps left to do in training our first torch neural network__\n",
    "1. Load and normalize data\n",
    "2. Define Neural Network\n",
    "3. Define Loss function\n",
    "4. Train network on training data\n",
    "5. Test network on test data.\n",
    "\n",
    "__1. Load and normalize data__\n",
    "\n",
    "Today, in the interest of time, we prepared the data before-hand into a 4D torch ByteTensor of size 10000x3x32x32 (training) and 10000x3x32x32 (testing)\n",
    "Let us load the data and inspect it."
   ]
  },
  {
   "cell_type": "code",
   "execution_count": 32,
   "metadata": {
    "collapsed": false
   },
   "outputs": [
    {
     "data": {
      "text/plain": [
       "Archive:  cifar10torchsmall.zip\n"
      ]
     },
     "execution_count": 32,
     "metadata": {},
     "output_type": "execute_result"
    }
   ],
   "source": [
    "os.execute('wget -c https://s3.amazonaws.com/torch7/data/cifar10torchsmall.zip')\n",
    "os.execute('unzip cifar10torchsmall.zip')\n",
    "trainset = torch.load('cifar10-train.t7')\n",
    "-- First, let's make sure our data is the right type\n",
    "trainset.data = trainset.data:double() -- convert the data from a ByteTensor to a DoubleTensor.\n",
    "testset = torch.load('cifar10-test.t7')\n",
    "testset.data = testset.data:double() -- convert the data from a ByteTensor to a DoubleTensor.\n",
    "classes = {'airplane', 'automobile', 'bird', 'cat',\n",
    "           'deer', 'dog', 'frog', 'horse', 'ship', 'truck'}"
   ]
  },
  {
   "cell_type": "code",
   "execution_count": 33,
   "metadata": {
    "collapsed": false
   },
   "outputs": [
    {
     "data": {
      "text/plain": [
       "{\n",
       "  label : ByteTensor - size: 10000\n",
       "  data : DoubleTensor - size: 10000x3x32x32\n",
       "}\n"
      ]
     },
     "execution_count": 33,
     "metadata": {},
     "output_type": "execute_result"
    }
   ],
   "source": [
    "print(trainset)"
   ]
  },
  {
   "cell_type": "code",
   "execution_count": 34,
   "metadata": {
    "collapsed": false
   },
   "outputs": [
    {
     "data": {
      "text/plain": [
       " 10000\n",
       "     3\n",
       "    32\n",
       "    32\n",
       "[torch.LongStorage of size 4]\n",
       "\n"
      ]
     },
     "execution_count": 34,
     "metadata": {},
     "output_type": "execute_result"
    }
   ],
   "source": [
    "print(#trainset.data)"
   ]
  },
  {
   "cell_type": "markdown",
   "metadata": {},
   "source": [
    "For fun, let us display an image:"
   ]
  },
  {
   "cell_type": "code",
   "execution_count": 35,
   "metadata": {
    "collapsed": false
   },
   "outputs": [
    {
     "data": {
      "image/png": "[encoded data removed]",
      "text/plain": [
       "Console does not support images"
      ]
     },
     "metadata": {
      "image/png": {
       "height": 32,
       "width": 32
      }
     },
     "output_type": "display_data"
    },
    {
     "data": {
      "text/plain": [
       "automobile\t\n"
      ]
     },
     "execution_count": 35,
     "metadata": {},
     "output_type": "execute_result"
    }
   ],
   "source": [
    "itorch.image(trainset.data[100]) -- display the 100-th image in dataset\n",
    "print(classes[trainset.label[100]])"
   ]
  },
  {
   "cell_type": "markdown",
   "metadata": {},
   "source": [
    "### Make a function to grab a batch from our training set"
   ]
  },
  {
   "cell_type": "code",
   "execution_count": 36,
   "metadata": {
    "collapsed": true
   },
   "outputs": [],
   "source": [
    "batchSize = 8\n",
    "function makeBatch(dataset,didx)\n",
    "   didx = (didx-1) * batchSize + 1\n",
    "   return {\n",
    "      data = dataset.data[{ {didx,didx+batchSize-1} }],\n",
    "      label = dataset.label[{ {didx,didx+batchSize-1} }],\n",
    "   }\n",
    "end"
   ]
  },
  {
   "cell_type": "code",
   "execution_count": 37,
   "metadata": {
    "collapsed": false
   },
   "outputs": [
    {
     "data": {
      "text/plain": [
       "\n"
      ]
     },
     "execution_count": 37,
     "metadata": {},
     "output_type": "execute_result"
    }
   ],
   "source": [
    "-- TODO:\n",
    "-- View all the images in the batch\n",
    "\n",
    "\n",
    "\n",
    "\n",
    "\n",
    "\n",
    "\n",
    "\n",
    "\n",
    "\n",
    "\n",
    "\n",
    "\n",
    "\n",
    "\n",
    "\n",
    "\n",
    "\n",
    "\n",
    "\n",
    "\n",
    "\n",
    "\n",
    "\n",
    "\n",
    "\n",
    "\n"
   ]
  },
  {
   "cell_type": "code",
   "execution_count": 38,
   "metadata": {
    "collapsed": false
   },
   "outputs": [
    {
     "data": {
      "image/png": "[encoded data removed]",
      "text/plain": [
       "Console does not support images"
      ]
     },
     "metadata": {
      "image/png": {
       "height": 32,
       "width": 32
      }
     },
     "output_type": "display_data"
    },
    {
     "data": {
      "text/plain": [
       "frog\t\n"
      ]
     },
     "execution_count": 38,
     "metadata": {},
     "output_type": "execute_result"
    },
    {
     "data": {
      "image/png": "[encoded data removed]",
      "text/plain": [
       "Console does not support images"
      ]
     },
     "metadata": {
      "image/png": {
       "height": 32,
       "width": 32
      }
     },
     "output_type": "display_data"
    },
    {
     "data": {
      "text/plain": [
       "truck\t\n"
      ]
     },
     "execution_count": 38,
     "metadata": {},
     "output_type": "execute_result"
    },
    {
     "data": {
      "image/png": "[encoded data removed]",
      "text/plain": [
       "Console does not support images"
      ]
     },
     "metadata": {
      "image/png": {
       "height": 32,
       "width": 32
      }
     },
     "output_type": "display_data"
    },
    {
     "data": {
      "text/plain": [
       "truck\t\n"
      ]
     },
     "execution_count": 38,
     "metadata": {},
     "output_type": "execute_result"
    },
    {
     "data": {
      "image/png": "[encoded data removed]",
      "text/plain": [
       "Console does not support images"
      ]
     },
     "metadata": {
      "image/png": {
       "height": 32,
       "width": 32
      }
     },
     "output_type": "display_data"
    },
    {
     "data": {
      "text/plain": [
       "deer\t\n"
      ]
     },
     "execution_count": 38,
     "metadata": {},
     "output_type": "execute_result"
    },
    {
     "data": {
      "image/png": "[encoded data removed]",
      "text/plain": [
       "Console does not support images"
      ]
     },
     "metadata": {
      "image/png": {
       "height": 32,
       "width": 32
      }
     },
     "output_type": "display_data"
    },
    {
     "data": {
      "text/plain": [
       "automobile\t\n"
      ]
     },
     "execution_count": 38,
     "metadata": {},
     "output_type": "execute_result"
    },
    {
     "data": {
      "image/png": "[encoded data removed]",
      "text/plain": [
       "Console does not support images"
      ]
     },
     "metadata": {
      "image/png": {
       "height": 32,
       "width": 32
      }
     },
     "output_type": "display_data"
    },
    {
     "data": {
      "text/plain": [
       "automobile\t\n"
      ]
     },
     "execution_count": 38,
     "metadata": {},
     "output_type": "execute_result"
    },
    {
     "data": {
      "text/plain": [
       "bird\t\n"
      ]
     },
     "execution_count": 38,
     "metadata": {},
     "output_type": "execute_result"
    },
    {
     "data": {
      "image/png": "[encoded data removed]",
      "text/plain": [
       "Console does not support images"
      ]
     },
     "metadata": {
      "image/png": {
       "height": 32,
       "width": 32
      }
     },
     "output_type": "display_data"
    },
    {
     "data": {
      "image/png": "[encoded data removed]",
      "text/plain": [
       "Console does not support images"
      ]
     },
     "metadata": {
      "image/png": {
       "height": 32,
       "width": 32
      }
     },
     "output_type": "display_data"
    },
    {
     "data": {
      "text/plain": [
       "horse\t\n"
      ]
     },
     "execution_count": 38,
     "metadata": {},
     "output_type": "execute_result"
    }
   ],
   "source": [
    "-- Solution\n",
    "batch = makeBatch(trainset,1)\n",
    "for i=1,batch.data:size(1) do\n",
    "    itorch.image(batch.data[i])\n",
    "    print(classes[batch.label[i]])\n",
    "end"
   ]
  },
  {
   "cell_type": "markdown",
   "metadata": {},
   "source": [
    "### Condition our data"
   ]
  },
  {
   "cell_type": "markdown",
   "metadata": {},
   "source": [
    "__One of the most important things you can do in conditioning your data (in general in data-science or machine learning) is to make your data to have a mean of 0.0 and standard-deviation of 1.0.__\n",
    "\n",
    "Let us do that as a final step of our data processing.\n",
    "\n",
    "To do this, we introduce you to the tensor indexing operator.\n",
    "It is shown by example:"
   ]
  },
  {
   "cell_type": "code",
   "execution_count": 39,
   "metadata": {
    "collapsed": true
   },
   "outputs": [],
   "source": [
    "redChannel = trainset.data[{ {}, {1}, {}, {}  }] -- this picks {all images, 1st channel, all vertical pixels, all horizontal pixels}"
   ]
  },
  {
   "cell_type": "code",
   "execution_count": 40,
   "metadata": {
    "collapsed": false
   },
   "outputs": [
    {
     "data": {
      "image/png": "[encoded data removed]",
      "text/plain": [
       "Console does not support images"
      ]
     },
     "metadata": {
      "image/png": {
       "height": 32,
       "width": 32
      }
     },
     "output_type": "display_data"
    },
    {
     "data": {
      "image/png": "[encoded data removed]",
      "text/plain": [
       "Console does not support images"
      ]
     },
     "metadata": {
      "image/png": {
       "height": 32,
       "width": 32
      }
     },
     "output_type": "display_data"
    },
    {
     "data": {
      "image/png": "[encoded data removed]",
      "text/plain": [
       "Console does not support images"
      ]
     },
     "metadata": {
      "image/png": {
       "height": 32,
       "width": 32
      }
     },
     "output_type": "display_data"
    },
    {
     "data": {
      "image/png": "[encoded data removed]",
      "text/plain": [
       "Console does not support images"
      ]
     },
     "metadata": {
      "image/png": {
       "height": 32,
       "width": 32
      }
     },
     "output_type": "display_data"
    }
   ],
   "source": [
    "-- Each channel individually will be viewable as greyscale\n",
    "for i=1,3 do\n",
    "    itorch.image(trainset.data[{ {}, {i}, {}, {}  }][1]) -- a single channel will show as a black and white image\n",
    "end\n",
    "itorch.image(trainset.data[1])"
   ]
  },
  {
   "cell_type": "markdown",
   "metadata": {},
   "source": [
    "In this indexing operator, you initally start with ___[{ }]___. You can pick all elements in a dimension using ___{}___ or pick a particular element using ___{i}___ where ___i___ is the element index. You can also pick a range of elements using ___{i1, i2}___, for example ___{3,5}___ gives us the 3,4,5 elements.\n",
    "\n",
    "__Exercise: Select the 150th to 300th data elements of the data__"
   ]
  },
  {
   "cell_type": "code",
   "execution_count": null,
   "metadata": {
    "collapsed": true
   },
   "outputs": [],
   "source": []
  },
  {
   "cell_type": "markdown",
   "metadata": {},
   "source": [
    "Moving back to mean-subtraction and standard-deviation based scaling, doing this operation is simple, using the indexing operator that we learnt above:"
   ]
  },
  {
   "cell_type": "code",
   "execution_count": 41,
   "metadata": {
    "collapsed": false
   },
   "outputs": [
    {
     "data": {
      "text/plain": [
       "Channel 1, Mean: 125.83175029297\t\n"
      ]
     },
     "execution_count": 41,
     "metadata": {},
     "output_type": "execute_result"
    },
    {
     "data": {
      "text/plain": [
       "Channel 1, Standard Deviation: 63.143400842609\t\n"
      ]
     },
     "execution_count": 41,
     "metadata": {},
     "output_type": "execute_result"
    },
    {
     "data": {
      "text/plain": [
       "Channel 2, Mean: 123.26066621094\t\n"
      ]
     },
     "execution_count": 41,
     "metadata": {},
     "output_type": "execute_result"
    },
    {
     "data": {
      "text/plain": [
       "Channel 2, Standard Deviation: 62.369209019002\t\n"
      ]
     },
     "execution_count": 41,
     "metadata": {},
     "output_type": "execute_result"
    },
    {
     "data": {
      "text/plain": [
       "Channel 3, Mean: 114.03068681641\t\n"
      ]
     },
     "execution_count": 41,
     "metadata": {},
     "output_type": "execute_result"
    },
    {
     "data": {
      "text/plain": [
       "Channel 3, Standard Deviation: 66.965808411114\t\n"
      ]
     },
     "execution_count": 41,
     "metadata": {},
     "output_type": "execute_result"
    }
   ],
   "source": [
    "mean = {} -- store the mean, to normalize the test set in the future\n",
    "stdv  = {} -- store the standard-deviation for the future\n",
    "for i=1,3 do -- over each image channel\n",
    "    mean[i] = trainset.data[{ {}, {i}, {}, {}  }]:mean() -- mean estimation\n",
    "    print('Channel ' .. i .. ', Mean: ' .. mean[i])\n",
    "    trainset.data[{ {}, {i}, {}, {}  }]:add(-mean[i]) -- mean subtraction\n",
    "    \n",
    "    stdv[i] = trainset.data[{ {}, {i}, {}, {}  }]:std() -- std estimation\n",
    "    print('Channel ' .. i .. ', Standard Deviation: ' .. stdv[i])\n",
    "    trainset.data[{ {}, {i}, {}, {}  }]:div(stdv[i]) -- std scaling\n",
    "end"
   ]
  },
  {
   "cell_type": "markdown",
   "metadata": {},
   "source": [
    "Try running the cell above twice... you'll see the mean shifts to close to 0,\n",
    "and the standard deviation becomes close to 0"
   ]
  },
  {
   "cell_type": "markdown",
   "metadata": {},
   "source": [
    "### Update our network to operate on RGB (3-channel) input"
   ]
  },
  {
   "cell_type": "markdown",
   "metadata": {},
   "source": [
    "**Exercise:** Copy the neural network from the __Neural Networks__ section above and modify it to take 3-channel images (instead of 1-channel images as it was defined).  \n",
    "Hint: You only have to change the first layer, change the number 1 to be 3."
   ]
  },
  {
   "cell_type": "code",
   "execution_count": null,
   "metadata": {
    "collapsed": true
   },
   "outputs": [],
   "source": [
    "\n",
    "\n",
    "\n",
    "\n",
    "\n",
    "\n",
    "\n",
    "\n",
    "\n",
    "\n",
    "\n",
    "\n",
    "\n",
    "\n",
    "\n",
    "\n",
    "\n",
    "\n",
    "\n",
    "\n",
    "\n",
    "\n",
    "\n",
    "\n",
    "\n",
    "\n",
    "\n",
    "\n",
    "\n",
    "\n",
    "\n",
    "\n"
   ]
  },
  {
   "cell_type": "markdown",
   "metadata": {},
   "source": [
    "Here's the solution, just need to alter the number of inputs channels."
   ]
  },
  {
   "cell_type": "code",
   "execution_count": 42,
   "metadata": {
    "collapsed": true
   },
   "outputs": [],
   "source": [
    "net = nn.Sequential()\n",
    "net:add(nn.SpatialConvolution(3, 6, 5, 5)) -- 3 input image channel, 6 output channels, 5x5 convolution kernel\n",
    "net:add(nn.SpatialMaxPooling(2,2,2,2))     -- A max-pooling operation that looks at 2x2 windows and finds the max.\n",
    "net:add(nn.SpatialConvolution(6, 16, 5, 5))\n",
    "net:add(nn.SpatialMaxPooling(2,2,2,2))\n",
    "net:add(nn.View(16*5*5))                    -- reshapes from a 3D tensor of 16x5x5 into 1D tensor of 16*5*5\n",
    "net:add(nn.Linear(16*5*5, 120))             -- fully connected layer (matrix multiplication between input and weights)\n",
    "net:add(nn.Linear(120, 84))\n",
    "net:add(nn.Linear(84, 10))                   -- 10 is the number of outputs of the network (in this case, 10 digits)\n",
    "net:add(nn.LogSoftMax())                     -- converts the output to a log-probability. Useful for classification problems"
   ]
  },
  {
   "cell_type": "markdown",
   "metadata": {},
   "source": [
    "### Phrase our network as a predictor and a loss function"
   ]
  },
  {
   "cell_type": "code",
   "execution_count": 43,
   "metadata": {
    "collapsed": true
   },
   "outputs": [],
   "source": [
    "-- Wrap our neural network in a function we can use\n",
    "-- to make a prediction, given a model\n",
    "\n",
    "params, gradParams = net:getParameters()\n",
    "function predict(model, input)\n",
    "   model:forward(input)\n",
    "   return model.output\n",
    "end"
   ]
  },
  {
   "cell_type": "code",
   "execution_count": 44,
   "metadata": {
    "collapsed": true
   },
   "outputs": [],
   "source": [
    "-- Now, wrap our prediction function, along with\n",
    "-- our criterion, so that we can get the gradients\n",
    "-- of the loss with respect to the parameters\n",
    "\n",
    "function df(model, criterion, input, target)\n",
    "   -- First, zero out the gradient parameters\n",
    "   gradParams:zero()\n",
    "   -- Make a prediction\n",
    "   prediction = predict(model, input)\n",
    "   -- Now, check how good our prediction was, through our criterion\n",
    "   loss = criterion:forward(prediction, target)\n",
    "   -- Now, propagate the error as a gradient through the criterion\n",
    "   -- and the model\n",
    "   model:backward(input, criterion:backward(prediction, target))\n",
    "   -- Return the loss, the gradient, and the original prediction\n",
    "   return loss, gradParams, prediction\n",
    "end"
   ]
  },
  {
   "cell_type": "markdown",
   "metadata": {},
   "source": [
    "Let's define a loss function as well. Log-likelihood classification loss works well for a lot of classification problems."
   ]
  },
  {
   "cell_type": "code",
   "execution_count": 45,
   "metadata": {
    "collapsed": true
   },
   "outputs": [],
   "source": [
    "criterion = nn.ClassNLLCriterion()"
   ]
  },
  {
   "cell_type": "markdown",
   "metadata": {},
   "source": [
    "### Check that we can learn to predict the label of just a single image\n",
    "A good debugging tip -- if your neural network can't overfit your data, something is wrong!"
   ]
  },
  {
   "cell_type": "code",
   "execution_count": 46,
   "metadata": {
    "collapsed": true
   },
   "outputs": [],
   "source": [
    "-- Make sure we've imported plotting code\n",
    "Plot = require 'itorch.Plot'"
   ]
  },
  {
   "cell_type": "code",
   "execution_count": 47,
   "metadata": {
    "collapsed": false
   },
   "outputs": [
    {
     "data": {
      "text/html": [
       "<script type=\"text/javascript\">\n",
       "$(function() {\n",
       "    if (typeof (window._bokeh_onload_callbacks) === \"undefined\"){\n",
       "  window._bokeh_onload_callbacks = [];\n",
       "    }\n",
       "    function load_lib(url, callback){\n",
       "  window._bokeh_onload_callbacks.push(callback);\n",
       "  if (window._bokeh_is_loading){\n",
       "      console.log(\"Bokeh: BokehJS is being loaded, scheduling callback at\", new Date());\n",
       "      return null;\n",
       "  }\n",
       "  console.log(\"Bokeh: BokehJS not loaded, scheduling load and callback at\", new Date());\n",
       "  window._bokeh_is_loading = true;\n",
       "  var s = document.createElement('script');\n",
       "  s.src = url;\n",
       "  s.async = true;\n",
       "  s.onreadystatechange = s.onload = function(){\n",
       "      Bokeh.embed.inject_css(\"https://cdn.pydata.org/bokeh-0.7.0.min.css\");\n",
       "      window._bokeh_onload_callbacks.forEach(function(callback){callback()});\n",
       "  };\n",
       "  s.onerror = function(){\n",
       "      console.warn(\"failed to load library \" + url);\n",
       "  };\n",
       "  document.getElementsByTagName(\"head\")[0].appendChild(s);\n",
       "    }\n",
       "\n",
       "    bokehjs_url = \"https://cdn.pydata.org/bokeh-0.7.0.min.js\"\n",
       "\n",
       "    var elt = document.getElementById(\"4553ff01-182c-4c09-ccab-b9b207fd724d\");\n",
       "    if(elt==null) {\n",
       "  console.log(\"Bokeh: ERROR: autoload.js configured with elementid '4553ff01-182c-4c09-ccab-b9b207fd724d'\"\n",
       "        + \"but no matching script tag was found. \")\n",
       "  return false;\n",
       "    }\n",
       "\n",
       "    if(typeof(Bokeh) !== \"undefined\") {\n",
       "  console.log(\"Bokeh: BokehJS loaded, going straight to plotting\");\n",
       "  var modelid = \"79910314-5361-4da2-cd31-6f0f9c97dde2\";\n",
       "  var modeltype = \"Plot\";\n",
       "  var all_models = [{\"type\":\"ColumnDataSource\",\"id\":\"ccd00dcb-1624-4837-c84f-c69b3bf88de2\",\"attributes\":{\"column_names\":[\"x\",\"y\"],\"cont_ranges\":{},\"doc\":null,\"data\":{\"y\":[0.098977159027566,0.1054446442388,0.095924378407595,0.091063210446581,0.099573862355521,0.097373783013802,0.11314482250356,0.096644197335586,0.11539503110405,0.086458911566942],\"x\":[1,2,3,4,5,6,7,8,9,10]},\"id\":\"ccd00dcb-1624-4837-c84f-c69b3bf88de2\",\"tags\":[],\"discrete_ranges\":{},\"selected\":[]}},{\"type\":\"Line\",\"id\":\"90c2a238-396a-4f1a-cf70-edc81ec6d30c\",\"attributes\":{\"fill_alpha\":{\"units\":\"data\",\"value\":0.2},\"x\":{\"units\":\"data\",\"field\":\"x\"},\"fill_color\":{\"value\":\"red\"},\"line_color\":{\"value\":\"red\"},\"size\":{\"units\":\"screen\",\"value\":10},\"id\":\"90c2a238-396a-4f1a-cf70-edc81ec6d30c\",\"y\":{\"units\":\"data\",\"field\":\"y\"},\"tags\":[],\"line_alpha\":{\"units\":\"data\",\"value\":1},\"doc\":null}},{\"type\":\"Line\",\"id\":\"f5d02d8f-1f13-4a44-ca94-faa314ea24c3\",\"attributes\":{\"fill_alpha\":{\"units\":\"data\",\"value\":0.2},\"x\":{\"units\":\"data\",\"field\":\"x\"},\"fill_color\":{\"value\":\"red\"},\"line_color\":{\"value\":\"red\"},\"size\":{\"units\":\"screen\",\"value\":10},\"id\":\"f5d02d8f-1f13-4a44-ca94-faa314ea24c3\",\"y\":{\"units\":\"data\",\"field\":\"y\"},\"tags\":[],\"line_alpha\":{\"units\":\"data\",\"value\":1},\"doc\":null}},{\"type\":\"GlyphRenderer\",\"id\":\"de8269f4-22c7-4cf4-cc8d-43e9c4691774\",\"attributes\":{\"nonselection_glyph\":{\"type\":\"Line\",\"id\":\"f5d02d8f-1f13-4a44-ca94-faa314ea24c3\"},\"selection_glyph\":null,\"glyph\":{\"type\":\"Line\",\"id\":\"90c2a238-396a-4f1a-cf70-edc81ec6d30c\"},\"doc\":null,\"name\":null,\"id\":\"de8269f4-22c7-4cf4-cc8d-43e9c4691774\",\"tags\":[],\"data_source\":{\"type\":\"ColumnDataSource\",\"id\":\"ccd00dcb-1624-4837-c84f-c69b3bf88de2\"},\"server_data_source\":null}},{\"type\":\"DataRange1d\",\"id\":\"6cbba5ca-aa9f-4b8c-cbaf-3cbf02985ed3\",\"attributes\":{\"sources\":[{\"source\":{\"id\":\"ccd00dcb-1624-4837-c84f-c69b3bf88de2\",\"type\":\"ColumnDataSource\"},\"columns\":[\"x\"]}],\"tags\":[],\"doc\":null,\"id\":\"6cbba5ca-aa9f-4b8c-cbaf-3cbf02985ed3\"}},{\"type\":\"DataRange1d\",\"id\":\"2f35aae6-9d4e-4853-c877-212435d1da46\",\"attributes\":{\"sources\":[{\"source\":{\"id\":\"ccd00dcb-1624-4837-c84f-c69b3bf88de2\",\"type\":\"ColumnDataSource\"},\"columns\":[\"y\"]}],\"tags\":[],\"doc\":null,\"id\":\"2f35aae6-9d4e-4853-c877-212435d1da46\"}},{\"type\":\"ToolEvents\",\"id\":\"c9dfafc9-be3b-4791-c7eb-fbfae9d0b2dd\",\"attributes\":{\"geometries\":[],\"tags\":[],\"doc\":null,\"id\":\"c9dfafc9-be3b-4791-c7eb-fbfae9d0b2dd\"}},{\"type\":\"BasicTickFormatter\",\"id\":\"6be908a1-7ed4-4490-c4c7-008649a1cf10\",\"attributes\":{\"tags\":[],\"doc\":null,\"id\":\"6be908a1-7ed4-4490-c4c7-008649a1cf10\"}},{\"type\":\"BasicTicker\",\"id\":\"ce698aaa-805b-4282-c2a0-ecf37a6e870c\",\"attributes\":{\"num_minor_ticks\":5,\"tags\":[],\"doc\":null,\"id\":\"ce698aaa-805b-4282-c2a0-ecf37a6e870c\"}},{\"type\":\"LinearAxis\",\"id\":\"20b64522-c2c9-4873-c836-577492cdeb29\",\"attributes\":{\"formatter\":{\"type\":\"BasicTickFormatter\",\"id\":\"6be908a1-7ed4-4490-c4c7-008649a1cf10\"},\"id\":\"20b64522-c2c9-4873-c836-577492cdeb29\",\"axis_label\":\"Class ID\",\"ticker\":{\"type\":\"BasicTicker\",\"id\":\"ce698aaa-805b-4282-c2a0-ecf37a6e870c\"},\"tags\":[],\"plot\":{\"type\":\"Plot\",\"id\":\"79910314-5361-4da2-cd31-6f0f9c97dde2\",\"subtype\":\"Figure\"},\"doc\":null}},{\"type\":\"Grid\",\"id\":\"92fe1663-a657-4035-c0d0-a36f0c483a5d\",\"attributes\":{\"ticker\":{\"type\":\"BasicTicker\",\"id\":\"ce698aaa-805b-4282-c2a0-ecf37a6e870c\"},\"dimension\":0,\"id\":\"92fe1663-a657-4035-c0d0-a36f0c483a5d\",\"tags\":[],\"plot\":{\"type\":\"Plot\",\"id\":\"79910314-5361-4da2-cd31-6f0f9c97dde2\",\"subtype\":\"Figure\"},\"doc\":null}},{\"type\":\"BasicTickFormatter\",\"id\":\"4d832f56-3fd6-4b89-cb62-fc152a1c2e44\",\"attributes\":{\"tags\":[],\"doc\":null,\"id\":\"4d832f56-3fd6-4b89-cb62-fc152a1c2e44\"}},{\"type\":\"BasicTicker\",\"id\":\"e38ec0e6-48e6-493d-c9cf-cfd41e6eedbd\",\"attributes\":{\"num_minor_ticks\":5,\"tags\":[],\"doc\":null,\"id\":\"e38ec0e6-48e6-493d-c9cf-cfd41e6eedbd\"}},{\"type\":\"LinearAxis\",\"id\":\"c3385696-94de-41ae-c172-fe2eb191cd70\",\"attributes\":{\"formatter\":{\"type\":\"BasicTickFormatter\",\"id\":\"4d832f56-3fd6-4b89-cb62-fc152a1c2e44\"},\"id\":\"c3385696-94de-41ae-c172-fe2eb191cd70\",\"axis_label\":\"Class probabilities (0-1)\",\"ticker\":{\"type\":\"BasicTicker\",\"id\":\"e38ec0e6-48e6-493d-c9cf-cfd41e6eedbd\"},\"tags\":[],\"plot\":{\"type\":\"Plot\",\"id\":\"79910314-5361-4da2-cd31-6f0f9c97dde2\",\"subtype\":\"Figure\"},\"doc\":null}},{\"type\":\"Grid\",\"id\":\"4577716c-cb55-47ea-c722-c72553f38a62\",\"attributes\":{\"ticker\":{\"type\":\"BasicTicker\",\"id\":\"e38ec0e6-48e6-493d-c9cf-cfd41e6eedbd\"},\"dimension\":1,\"id\":\"4577716c-cb55-47ea-c722-c72553f38a62\",\"tags\":[],\"plot\":{\"type\":\"Plot\",\"id\":\"79910314-5361-4da2-cd31-6f0f9c97dde2\",\"subtype\":\"Figure\"},\"doc\":null}},{\"type\":\"PanTool\",\"id\":\"22ec61ba-288d-4cdd-cc31-2bdd6239ceeb\",\"attributes\":{\"id\":\"22ec61ba-288d-4cdd-cc31-2bdd6239ceeb\",\"dimensions\":[\"width\",\"height\"],\"tags\":[],\"plot\":{\"type\":\"Plot\",\"id\":\"79910314-5361-4da2-cd31-6f0f9c97dde2\",\"subtype\":\"Figure\"},\"doc\":null}},{\"type\":\"WheelZoomTool\",\"id\":\"158c4247-e7cb-464a-c638-62eec5083a88\",\"attributes\":{\"id\":\"158c4247-e7cb-464a-c638-62eec5083a88\",\"dimensions\":[\"width\",\"height\"],\"tags\":[],\"plot\":{\"type\":\"Plot\",\"id\":\"79910314-5361-4da2-cd31-6f0f9c97dde2\",\"subtype\":\"Figure\"},\"doc\":null}},{\"type\":\"BoxZoomTool\",\"id\":\"5699ae76-798e-45c5-c572-e991434bc40f\",\"attributes\":{\"plot\":{\"type\":\"Plot\",\"id\":\"79910314-5361-4da2-cd31-6f0f9c97dde2\",\"subtype\":\"Figure\"},\"tags\":[],\"doc\":null,\"id\":\"5699ae76-798e-45c5-c572-e991434bc40f\"}},{\"type\":\"PreviewSaveTool\",\"id\":\"cb882bd6-ca8d-4b44-cbe2-4dd47399e3e1\",\"attributes\":{\"plot\":{\"type\":\"Plot\",\"id\":\"79910314-5361-4da2-cd31-6f0f9c97dde2\",\"subtype\":\"Figure\"},\"tags\":[],\"doc\":null,\"id\":\"cb882bd6-ca8d-4b44-cbe2-4dd47399e3e1\"}},{\"type\":\"ResizeTool\",\"id\":\"de81e847-c7c5-432d-c35a-42b2c4fed59a\",\"attributes\":{\"plot\":{\"type\":\"Plot\",\"id\":\"79910314-5361-4da2-cd31-6f0f9c97dde2\",\"subtype\":\"Figure\"},\"tags\":[],\"doc\":null,\"id\":\"de81e847-c7c5-432d-c35a-42b2c4fed59a\"}},{\"type\":\"ResetTool\",\"id\":\"8a228063-6637-46fd-c623-71d190dcf1e8\",\"attributes\":{\"plot\":{\"type\":\"Plot\",\"id\":\"79910314-5361-4da2-cd31-6f0f9c97dde2\",\"subtype\":\"Figure\"},\"tags\":[],\"doc\":null,\"id\":\"8a228063-6637-46fd-c623-71d190dcf1e8\"}},{\"type\":\"Plot\",\"id\":\"79910314-5361-4da2-cd31-6f0f9c97dde2\",\"attributes\":{\"tool_events\":{\"type\":\"ToolEvents\",\"id\":\"c9dfafc9-be3b-4791-c7eb-fbfae9d0b2dd\"},\"renderers\":[{\"type\":\"GlyphRenderer\",\"id\":\"de8269f4-22c7-4cf4-cc8d-43e9c4691774\"},{\"type\":\"LinearAxis\",\"id\":\"20b64522-c2c9-4873-c836-577492cdeb29\"},{\"type\":\"Grid\",\"id\":\"92fe1663-a657-4035-c0d0-a36f0c483a5d\"},{\"type\":\"LinearAxis\",\"id\":\"c3385696-94de-41ae-c172-fe2eb191cd70\"},{\"type\":\"Grid\",\"id\":\"4577716c-cb55-47ea-c722-c72553f38a62\"}],\"x_range\":{\"type\":\"DataRange1d\",\"id\":\"6cbba5ca-aa9f-4b8c-cbaf-3cbf02985ed3\"},\"above\":[],\"right\":[],\"title\":\"Class probabilities of a single sample (untrained)\",\"left\":[{\"type\":\"LinearAxis\",\"id\":\"c3385696-94de-41ae-c172-fe2eb191cd70\"}],\"extra_y_ranges\":{},\"y_range\":{\"type\":\"DataRange1d\",\"id\":\"2f35aae6-9d4e-4853-c877-212435d1da46\"},\"doc\":null,\"extra_x_ranges\":{},\"below\":[{\"type\":\"LinearAxis\",\"id\":\"20b64522-c2c9-4873-c836-577492cdeb29\"}],\"tags\":[],\"id\":\"79910314-5361-4da2-cd31-6f0f9c97dde2\",\"tools\":[{\"type\":\"PanTool\",\"id\":\"22ec61ba-288d-4cdd-cc31-2bdd6239ceeb\"},{\"type\":\"WheelZoomTool\",\"id\":\"158c4247-e7cb-464a-c638-62eec5083a88\"},{\"type\":\"BoxZoomTool\",\"id\":\"5699ae76-798e-45c5-c572-e991434bc40f\"},{\"type\":\"PreviewSaveTool\",\"id\":\"cb882bd6-ca8d-4b44-cbe2-4dd47399e3e1\"},{\"type\":\"ResizeTool\",\"id\":\"de81e847-c7c5-432d-c35a-42b2c4fed59a\"},{\"type\":\"ResetTool\",\"id\":\"8a228063-6637-46fd-c623-71d190dcf1e8\"}]}}];\n",
       "  Bokeh.load_models(all_models);\n",
       "  var model = Bokeh.Collections(modeltype).get(modelid);\n",
       "  $(\"#4553ff01-182c-4c09-ccab-b9b207fd724d\").html(''); // clear any previous plot in window_id\n",
       "  var view = new model.default_view({model: model, el: \"#4553ff01-182c-4c09-ccab-b9b207fd724d\"});\n",
       "    } else {\n",
       "  load_lib(bokehjs_url, function() {\n",
       "      console.log(\"Bokeh: BokehJS plotting callback run at\", new Date())\n",
       "      var modelid = \"79910314-5361-4da2-cd31-6f0f9c97dde2\";\n",
       "      var modeltype = \"Plot\";\n",
       "      var all_models = [{\"type\":\"ColumnDataSource\",\"id\":\"ccd00dcb-1624-4837-c84f-c69b3bf88de2\",\"attributes\":{\"column_names\":[\"x\",\"y\"],\"cont_ranges\":{},\"doc\":null,\"data\":{\"y\":[0.098977159027566,0.1054446442388,0.095924378407595,0.091063210446581,0.099573862355521,0.097373783013802,0.11314482250356,0.096644197335586,0.11539503110405,0.086458911566942],\"x\":[1,2,3,4,5,6,7,8,9,10]},\"id\":\"ccd00dcb-1624-4837-c84f-c69b3bf88de2\",\"tags\":[],\"discrete_ranges\":{},\"selected\":[]}},{\"type\":\"Line\",\"id\":\"90c2a238-396a-4f1a-cf70-edc81ec6d30c\",\"attributes\":{\"fill_alpha\":{\"units\":\"data\",\"value\":0.2},\"x\":{\"units\":\"data\",\"field\":\"x\"},\"fill_color\":{\"value\":\"red\"},\"line_color\":{\"value\":\"red\"},\"size\":{\"units\":\"screen\",\"value\":10},\"id\":\"90c2a238-396a-4f1a-cf70-edc81ec6d30c\",\"y\":{\"units\":\"data\",\"field\":\"y\"},\"tags\":[],\"line_alpha\":{\"units\":\"data\",\"value\":1},\"doc\":null}},{\"type\":\"Line\",\"id\":\"f5d02d8f-1f13-4a44-ca94-faa314ea24c3\",\"attributes\":{\"fill_alpha\":{\"units\":\"data\",\"value\":0.2},\"x\":{\"units\":\"data\",\"field\":\"x\"},\"fill_color\":{\"value\":\"red\"},\"line_color\":{\"value\":\"red\"},\"size\":{\"units\":\"screen\",\"value\":10},\"id\":\"f5d02d8f-1f13-4a44-ca94-faa314ea24c3\",\"y\":{\"units\":\"data\",\"field\":\"y\"},\"tags\":[],\"line_alpha\":{\"units\":\"data\",\"value\":1},\"doc\":null}},{\"type\":\"GlyphRenderer\",\"id\":\"de8269f4-22c7-4cf4-cc8d-43e9c4691774\",\"attributes\":{\"nonselection_glyph\":{\"type\":\"Line\",\"id\":\"f5d02d8f-1f13-4a44-ca94-faa314ea24c3\"},\"selection_glyph\":null,\"glyph\":{\"type\":\"Line\",\"id\":\"90c2a238-396a-4f1a-cf70-edc81ec6d30c\"},\"doc\":null,\"name\":null,\"id\":\"de8269f4-22c7-4cf4-cc8d-43e9c4691774\",\"tags\":[],\"data_source\":{\"type\":\"ColumnDataSource\",\"id\":\"ccd00dcb-1624-4837-c84f-c69b3bf88de2\"},\"server_data_source\":null}},{\"type\":\"DataRange1d\",\"id\":\"6cbba5ca-aa9f-4b8c-cbaf-3cbf02985ed3\",\"attributes\":{\"sources\":[{\"source\":{\"id\":\"ccd00dcb-1624-4837-c84f-c69b3bf88de2\",\"type\":\"ColumnDataSource\"},\"columns\":[\"x\"]}],\"tags\":[],\"doc\":null,\"id\":\"6cbba5ca-aa9f-4b8c-cbaf-3cbf02985ed3\"}},{\"type\":\"DataRange1d\",\"id\":\"2f35aae6-9d4e-4853-c877-212435d1da46\",\"attributes\":{\"sources\":[{\"source\":{\"id\":\"ccd00dcb-1624-4837-c84f-c69b3bf88de2\",\"type\":\"ColumnDataSource\"},\"columns\":[\"y\"]}],\"tags\":[],\"doc\":null,\"id\":\"2f35aae6-9d4e-4853-c877-212435d1da46\"}},{\"type\":\"ToolEvents\",\"id\":\"c9dfafc9-be3b-4791-c7eb-fbfae9d0b2dd\",\"attributes\":{\"geometries\":[],\"tags\":[],\"doc\":null,\"id\":\"c9dfafc9-be3b-4791-c7eb-fbfae9d0b2dd\"}},{\"type\":\"BasicTickFormatter\",\"id\":\"6be908a1-7ed4-4490-c4c7-008649a1cf10\",\"attributes\":{\"tags\":[],\"doc\":null,\"id\":\"6be908a1-7ed4-4490-c4c7-008649a1cf10\"}},{\"type\":\"BasicTicker\",\"id\":\"ce698aaa-805b-4282-c2a0-ecf37a6e870c\",\"attributes\":{\"num_minor_ticks\":5,\"tags\":[],\"doc\":null,\"id\":\"ce698aaa-805b-4282-c2a0-ecf37a6e870c\"}},{\"type\":\"LinearAxis\",\"id\":\"20b64522-c2c9-4873-c836-577492cdeb29\",\"attributes\":{\"formatter\":{\"type\":\"BasicTickFormatter\",\"id\":\"6be908a1-7ed4-4490-c4c7-008649a1cf10\"},\"id\":\"20b64522-c2c9-4873-c836-577492cdeb29\",\"axis_label\":\"Class ID\",\"ticker\":{\"type\":\"BasicTicker\",\"id\":\"ce698aaa-805b-4282-c2a0-ecf37a6e870c\"},\"tags\":[],\"plot\":{\"type\":\"Plot\",\"id\":\"79910314-5361-4da2-cd31-6f0f9c97dde2\",\"subtype\":\"Figure\"},\"doc\":null}},{\"type\":\"Grid\",\"id\":\"92fe1663-a657-4035-c0d0-a36f0c483a5d\",\"attributes\":{\"ticker\":{\"type\":\"BasicTicker\",\"id\":\"ce698aaa-805b-4282-c2a0-ecf37a6e870c\"},\"dimension\":0,\"id\":\"92fe1663-a657-4035-c0d0-a36f0c483a5d\",\"tags\":[],\"plot\":{\"type\":\"Plot\",\"id\":\"79910314-5361-4da2-cd31-6f0f9c97dde2\",\"subtype\":\"Figure\"},\"doc\":null}},{\"type\":\"BasicTickFormatter\",\"id\":\"4d832f56-3fd6-4b89-cb62-fc152a1c2e44\",\"attributes\":{\"tags\":[],\"doc\":null,\"id\":\"4d832f56-3fd6-4b89-cb62-fc152a1c2e44\"}},{\"type\":\"BasicTicker\",\"id\":\"e38ec0e6-48e6-493d-c9cf-cfd41e6eedbd\",\"attributes\":{\"num_minor_ticks\":5,\"tags\":[],\"doc\":null,\"id\":\"e38ec0e6-48e6-493d-c9cf-cfd41e6eedbd\"}},{\"type\":\"LinearAxis\",\"id\":\"c3385696-94de-41ae-c172-fe2eb191cd70\",\"attributes\":{\"formatter\":{\"type\":\"BasicTickFormatter\",\"id\":\"4d832f56-3fd6-4b89-cb62-fc152a1c2e44\"},\"id\":\"c3385696-94de-41ae-c172-fe2eb191cd70\",\"axis_label\":\"Class probabilities (0-1)\",\"ticker\":{\"type\":\"BasicTicker\",\"id\":\"e38ec0e6-48e6-493d-c9cf-cfd41e6eedbd\"},\"tags\":[],\"plot\":{\"type\":\"Plot\",\"id\":\"79910314-5361-4da2-cd31-6f0f9c97dde2\",\"subtype\":\"Figure\"},\"doc\":null}},{\"type\":\"Grid\",\"id\":\"4577716c-cb55-47ea-c722-c72553f38a62\",\"attributes\":{\"ticker\":{\"type\":\"BasicTicker\",\"id\":\"e38ec0e6-48e6-493d-c9cf-cfd41e6eedbd\"},\"dimension\":1,\"id\":\"4577716c-cb55-47ea-c722-c72553f38a62\",\"tags\":[],\"plot\":{\"type\":\"Plot\",\"id\":\"79910314-5361-4da2-cd31-6f0f9c97dde2\",\"subtype\":\"Figure\"},\"doc\":null}},{\"type\":\"PanTool\",\"id\":\"22ec61ba-288d-4cdd-cc31-2bdd6239ceeb\",\"attributes\":{\"id\":\"22ec61ba-288d-4cdd-cc31-2bdd6239ceeb\",\"dimensions\":[\"width\",\"height\"],\"tags\":[],\"plot\":{\"type\":\"Plot\",\"id\":\"79910314-5361-4da2-cd31-6f0f9c97dde2\",\"subtype\":\"Figure\"},\"doc\":null}},{\"type\":\"WheelZoomTool\",\"id\":\"158c4247-e7cb-464a-c638-62eec5083a88\",\"attributes\":{\"id\":\"158c4247-e7cb-464a-c638-62eec5083a88\",\"dimensions\":[\"width\",\"height\"],\"tags\":[],\"plot\":{\"type\":\"Plot\",\"id\":\"79910314-5361-4da2-cd31-6f0f9c97dde2\",\"subtype\":\"Figure\"},\"doc\":null}},{\"type\":\"BoxZoomTool\",\"id\":\"5699ae76-798e-45c5-c572-e991434bc40f\",\"attributes\":{\"plot\":{\"type\":\"Plot\",\"id\":\"79910314-5361-4da2-cd31-6f0f9c97dde2\",\"subtype\":\"Figure\"},\"tags\":[],\"doc\":null,\"id\":\"5699ae76-798e-45c5-c572-e991434bc40f\"}},{\"type\":\"PreviewSaveTool\",\"id\":\"cb882bd6-ca8d-4b44-cbe2-4dd47399e3e1\",\"attributes\":{\"plot\":{\"type\":\"Plot\",\"id\":\"79910314-5361-4da2-cd31-6f0f9c97dde2\",\"subtype\":\"Figure\"},\"tags\":[],\"doc\":null,\"id\":\"cb882bd6-ca8d-4b44-cbe2-4dd47399e3e1\"}},{\"type\":\"ResizeTool\",\"id\":\"de81e847-c7c5-432d-c35a-42b2c4fed59a\",\"attributes\":{\"plot\":{\"type\":\"Plot\",\"id\":\"79910314-5361-4da2-cd31-6f0f9c97dde2\",\"subtype\":\"Figure\"},\"tags\":[],\"doc\":null,\"id\":\"de81e847-c7c5-432d-c35a-42b2c4fed59a\"}},{\"type\":\"ResetTool\",\"id\":\"8a228063-6637-46fd-c623-71d190dcf1e8\",\"attributes\":{\"plot\":{\"type\":\"Plot\",\"id\":\"79910314-5361-4da2-cd31-6f0f9c97dde2\",\"subtype\":\"Figure\"},\"tags\":[],\"doc\":null,\"id\":\"8a228063-6637-46fd-c623-71d190dcf1e8\"}},{\"type\":\"Plot\",\"id\":\"79910314-5361-4da2-cd31-6f0f9c97dde2\",\"attributes\":{\"tool_events\":{\"type\":\"ToolEvents\",\"id\":\"c9dfafc9-be3b-4791-c7eb-fbfae9d0b2dd\"},\"renderers\":[{\"type\":\"GlyphRenderer\",\"id\":\"de8269f4-22c7-4cf4-cc8d-43e9c4691774\"},{\"type\":\"LinearAxis\",\"id\":\"20b64522-c2c9-4873-c836-577492cdeb29\"},{\"type\":\"Grid\",\"id\":\"92fe1663-a657-4035-c0d0-a36f0c483a5d\"},{\"type\":\"LinearAxis\",\"id\":\"c3385696-94de-41ae-c172-fe2eb191cd70\"},{\"type\":\"Grid\",\"id\":\"4577716c-cb55-47ea-c722-c72553f38a62\"}],\"x_range\":{\"type\":\"DataRange1d\",\"id\":\"6cbba5ca-aa9f-4b8c-cbaf-3cbf02985ed3\"},\"above\":[],\"right\":[],\"title\":\"Class probabilities of a single sample (untrained)\",\"left\":[{\"type\":\"LinearAxis\",\"id\":\"c3385696-94de-41ae-c172-fe2eb191cd70\"}],\"extra_y_ranges\":{},\"y_range\":{\"type\":\"DataRange1d\",\"id\":\"2f35aae6-9d4e-4853-c877-212435d1da46\"},\"doc\":null,\"extra_x_ranges\":{},\"below\":[{\"type\":\"LinearAxis\",\"id\":\"20b64522-c2c9-4873-c836-577492cdeb29\"}],\"tags\":[],\"id\":\"79910314-5361-4da2-cd31-6f0f9c97dde2\",\"tools\":[{\"type\":\"PanTool\",\"id\":\"22ec61ba-288d-4cdd-cc31-2bdd6239ceeb\"},{\"type\":\"WheelZoomTool\",\"id\":\"158c4247-e7cb-464a-c638-62eec5083a88\"},{\"type\":\"BoxZoomTool\",\"id\":\"5699ae76-798e-45c5-c572-e991434bc40f\"},{\"type\":\"PreviewSaveTool\",\"id\":\"cb882bd6-ca8d-4b44-cbe2-4dd47399e3e1\"},{\"type\":\"ResizeTool\",\"id\":\"de81e847-c7c5-432d-c35a-42b2c4fed59a\"},{\"type\":\"ResetTool\",\"id\":\"8a228063-6637-46fd-c623-71d190dcf1e8\"}]}}];\n",
       "      Bokeh.load_models(all_models);\n",
       "      var model = Bokeh.Collections(modeltype).get(modelid);\n",
       "      $(\"#4553ff01-182c-4c09-ccab-b9b207fd724d\").html(''); // clear any previous plot in window_id\n",
       "      var view = new model.default_view({model: model, el: \"#4553ff01-182c-4c09-ccab-b9b207fd724d\"});\n",
       "  });\n",
       "    }\n",
       "});\n",
       "</script>\n",
       "<div class=\"plotdiv\" id=\"4553ff01-182c-4c09-ccab-b9b207fd724d\"></div>\n"
      ]
     },
     "metadata": {},
     "output_type": "display_data"
    }
   ],
   "source": [
    "-- Notice that before we train, the probabilities of a given class are all mostly uniform\n",
    "classLogProbabilities = predict(net, trainset.data[1])\n",
    "classProbabilities = classLogProbabilities:exp() -- we get out log probabilities, but we'd like regular ones\n",
    "p = Plot()\n",
    "    :line(torch.range(1,#classes),classProbabilities)\n",
    "    :yaxis(\"Class probabilities (0-1)\")\n",
    "    :xaxis(\"Class ID\")\n",
    "    :title(\"Class probabilities of a single sample (untrained)\")\n",
    "    :draw()"
   ]
  },
  {
   "cell_type": "markdown",
   "metadata": {},
   "source": [
    "Try running this cell below a few times, you'll see your net begin to overfit on the single training sample we've asked it to learn on. If it's not doing that, something weird is going on!  \n",
    "  \n",
    "When you're convinced yourself we're able to overfit, go back and reset the network by running the cells that a) define the network (cell starts with `net = `), defines the `predict` function and defines the `df` function. Then, skip the cell below, so you don't accidentally overfit to start."
   ]
  },
  {
   "cell_type": "code",
   "execution_count": 50,
   "metadata": {
    "collapsed": false
   },
   "outputs": [
    {
     "data": {
      "text/html": [
       "<script type=\"text/javascript\">\n",
       "$(function() {\n",
       "    if (typeof (window._bokeh_onload_callbacks) === \"undefined\"){\n",
       "  window._bokeh_onload_callbacks = [];\n",
       "    }\n",
       "    function load_lib(url, callback){\n",
       "  window._bokeh_onload_callbacks.push(callback);\n",
       "  if (window._bokeh_is_loading){\n",
       "      console.log(\"Bokeh: BokehJS is being loaded, scheduling callback at\", new Date());\n",
       "      return null;\n",
       "  }\n",
       "  console.log(\"Bokeh: BokehJS not loaded, scheduling load and callback at\", new Date());\n",
       "  window._bokeh_is_loading = true;\n",
       "  var s = document.createElement('script');\n",
       "  s.src = url;\n",
       "  s.async = true;\n",
       "  s.onreadystatechange = s.onload = function(){\n",
       "      Bokeh.embed.inject_css(\"https://cdn.pydata.org/bokeh-0.7.0.min.css\");\n",
       "      window._bokeh_onload_callbacks.forEach(function(callback){callback()});\n",
       "  };\n",
       "  s.onerror = function(){\n",
       "      console.warn(\"failed to load library \" + url);\n",
       "  };\n",
       "  document.getElementsByTagName(\"head\")[0].appendChild(s);\n",
       "    }\n",
       "\n",
       "    bokehjs_url = \"https://cdn.pydata.org/bokeh-0.7.0.min.js\"\n",
       "\n",
       "    var elt = document.getElementById(\"717f29e0-ac3b-4260-c230-4a3ae3b1d7ca\");\n",
       "    if(elt==null) {\n",
       "  console.log(\"Bokeh: ERROR: autoload.js configured with elementid '717f29e0-ac3b-4260-c230-4a3ae3b1d7ca'\"\n",
       "        + \"but no matching script tag was found. \")\n",
       "  return false;\n",
       "    }\n",
       "\n",
       "    if(typeof(Bokeh) !== \"undefined\") {\n",
       "  console.log(\"Bokeh: BokehJS loaded, going straight to plotting\");\n",
       "  var modelid = \"c1505bfa-a710-47ab-c792-56341ff78adc\";\n",
       "  var modeltype = \"Plot\";\n",
       "  var all_models = [{\"type\":\"ColumnDataSource\",\"id\":\"5678dbe2-356c-420b-c283-bdc9c33e9628\",\"attributes\":{\"column_names\":[\"x\",\"y\"],\"cont_ranges\":{},\"doc\":null,\"data\":{\"y\":[0.089526607181465,0.10115204941098,0.093023102213019,0.086878144078972,0.097275704220624,0.091337380739824,0.1578973678488,0.092369653835889,0.11199412670721,0.078545863763226],\"x\":[1,2,3,4,5,6,7,8,9,10]},\"id\":\"5678dbe2-356c-420b-c283-bdc9c33e9628\",\"tags\":[],\"discrete_ranges\":{},\"selected\":[]}},{\"type\":\"Line\",\"id\":\"defb1539-9055-4585-c583-5ac3392c3b9e\",\"attributes\":{\"fill_alpha\":{\"units\":\"data\",\"value\":0.2},\"x\":{\"units\":\"data\",\"field\":\"x\"},\"fill_color\":{\"value\":\"red\"},\"line_color\":{\"value\":\"red\"},\"size\":{\"units\":\"screen\",\"value\":10},\"id\":\"defb1539-9055-4585-c583-5ac3392c3b9e\",\"y\":{\"units\":\"data\",\"field\":\"y\"},\"tags\":[],\"line_alpha\":{\"units\":\"data\",\"value\":1},\"doc\":null}},{\"type\":\"Line\",\"id\":\"ecd12ce1-efb6-41ba-c186-13f5b3144f7e\",\"attributes\":{\"fill_alpha\":{\"units\":\"data\",\"value\":0.2},\"x\":{\"units\":\"data\",\"field\":\"x\"},\"fill_color\":{\"value\":\"red\"},\"line_color\":{\"value\":\"red\"},\"size\":{\"units\":\"screen\",\"value\":10},\"id\":\"ecd12ce1-efb6-41ba-c186-13f5b3144f7e\",\"y\":{\"units\":\"data\",\"field\":\"y\"},\"tags\":[],\"line_alpha\":{\"units\":\"data\",\"value\":1},\"doc\":null}},{\"type\":\"GlyphRenderer\",\"id\":\"bfe180b5-8683-4a5c-caf0-abd2dddadd95\",\"attributes\":{\"nonselection_glyph\":{\"type\":\"Line\",\"id\":\"ecd12ce1-efb6-41ba-c186-13f5b3144f7e\"},\"selection_glyph\":null,\"glyph\":{\"type\":\"Line\",\"id\":\"defb1539-9055-4585-c583-5ac3392c3b9e\"},\"doc\":null,\"name\":null,\"id\":\"bfe180b5-8683-4a5c-caf0-abd2dddadd95\",\"tags\":[],\"data_source\":{\"type\":\"ColumnDataSource\",\"id\":\"5678dbe2-356c-420b-c283-bdc9c33e9628\"},\"server_data_source\":null}},{\"type\":\"DataRange1d\",\"id\":\"f0b18290-d4b1-4879-c803-7f2e7e28bf69\",\"attributes\":{\"sources\":[{\"source\":{\"id\":\"5678dbe2-356c-420b-c283-bdc9c33e9628\",\"type\":\"ColumnDataSource\"},\"columns\":[\"x\"]}],\"tags\":[],\"doc\":null,\"id\":\"f0b18290-d4b1-4879-c803-7f2e7e28bf69\"}},{\"type\":\"DataRange1d\",\"id\":\"5c41ee7e-a5f1-4d93-cdd1-fe8af31ba841\",\"attributes\":{\"sources\":[{\"source\":{\"id\":\"5678dbe2-356c-420b-c283-bdc9c33e9628\",\"type\":\"ColumnDataSource\"},\"columns\":[\"y\"]}],\"tags\":[],\"doc\":null,\"id\":\"5c41ee7e-a5f1-4d93-cdd1-fe8af31ba841\"}},{\"type\":\"ToolEvents\",\"id\":\"3a0ea3d0-71f3-457d-c5bc-d48fe5996834\",\"attributes\":{\"geometries\":[],\"tags\":[],\"doc\":null,\"id\":\"3a0ea3d0-71f3-457d-c5bc-d48fe5996834\"}},{\"type\":\"BasicTickFormatter\",\"id\":\"39656adf-92c6-4ca4-cc86-10bcc8620b8c\",\"attributes\":{\"tags\":[],\"doc\":null,\"id\":\"39656adf-92c6-4ca4-cc86-10bcc8620b8c\"}},{\"type\":\"BasicTicker\",\"id\":\"d3ddde94-5d2a-419e-c1b9-733318b7d2c6\",\"attributes\":{\"num_minor_ticks\":5,\"tags\":[],\"doc\":null,\"id\":\"d3ddde94-5d2a-419e-c1b9-733318b7d2c6\"}},{\"type\":\"LinearAxis\",\"id\":\"8143a44f-df9b-4b14-cbad-4fb32be0ebfa\",\"attributes\":{\"formatter\":{\"type\":\"BasicTickFormatter\",\"id\":\"39656adf-92c6-4ca4-cc86-10bcc8620b8c\"},\"id\":\"8143a44f-df9b-4b14-cbad-4fb32be0ebfa\",\"axis_label\":\"Class ID\",\"ticker\":{\"type\":\"BasicTicker\",\"id\":\"d3ddde94-5d2a-419e-c1b9-733318b7d2c6\"},\"tags\":[],\"plot\":{\"type\":\"Plot\",\"id\":\"c1505bfa-a710-47ab-c792-56341ff78adc\",\"subtype\":\"Figure\"},\"doc\":null}},{\"type\":\"Grid\",\"id\":\"4bee9d15-7d0b-4871-c8f4-8f48ed352438\",\"attributes\":{\"ticker\":{\"type\":\"BasicTicker\",\"id\":\"d3ddde94-5d2a-419e-c1b9-733318b7d2c6\"},\"dimension\":0,\"id\":\"4bee9d15-7d0b-4871-c8f4-8f48ed352438\",\"tags\":[],\"plot\":{\"type\":\"Plot\",\"id\":\"c1505bfa-a710-47ab-c792-56341ff78adc\",\"subtype\":\"Figure\"},\"doc\":null}},{\"type\":\"BasicTickFormatter\",\"id\":\"9ee3c59e-5367-4d13-cdbc-2593f10a1358\",\"attributes\":{\"tags\":[],\"doc\":null,\"id\":\"9ee3c59e-5367-4d13-cdbc-2593f10a1358\"}},{\"type\":\"BasicTicker\",\"id\":\"0b8b9cee-19ec-4dec-cdb7-0f0f78097d5e\",\"attributes\":{\"num_minor_ticks\":5,\"tags\":[],\"doc\":null,\"id\":\"0b8b9cee-19ec-4dec-cdb7-0f0f78097d5e\"}},{\"type\":\"LinearAxis\",\"id\":\"eff9519f-caa2-45f9-c53a-9830e0378023\",\"attributes\":{\"formatter\":{\"type\":\"BasicTickFormatter\",\"id\":\"9ee3c59e-5367-4d13-cdbc-2593f10a1358\"},\"id\":\"eff9519f-caa2-45f9-c53a-9830e0378023\",\"axis_label\":\"Class probabilities (0-1)\",\"ticker\":{\"type\":\"BasicTicker\",\"id\":\"0b8b9cee-19ec-4dec-cdb7-0f0f78097d5e\"},\"tags\":[],\"plot\":{\"type\":\"Plot\",\"id\":\"c1505bfa-a710-47ab-c792-56341ff78adc\",\"subtype\":\"Figure\"},\"doc\":null}},{\"type\":\"Grid\",\"id\":\"8ec66a3b-a13e-4aa0-ca3c-de6bf08511ab\",\"attributes\":{\"ticker\":{\"type\":\"BasicTicker\",\"id\":\"0b8b9cee-19ec-4dec-cdb7-0f0f78097d5e\"},\"dimension\":1,\"id\":\"8ec66a3b-a13e-4aa0-ca3c-de6bf08511ab\",\"tags\":[],\"plot\":{\"type\":\"Plot\",\"id\":\"c1505bfa-a710-47ab-c792-56341ff78adc\",\"subtype\":\"Figure\"},\"doc\":null}},{\"type\":\"PanTool\",\"id\":\"88cc4bdd-3e96-4863-c850-377de42827f5\",\"attributes\":{\"id\":\"88cc4bdd-3e96-4863-c850-377de42827f5\",\"dimensions\":[\"width\",\"height\"],\"tags\":[],\"plot\":{\"type\":\"Plot\",\"id\":\"c1505bfa-a710-47ab-c792-56341ff78adc\",\"subtype\":\"Figure\"},\"doc\":null}},{\"type\":\"WheelZoomTool\",\"id\":\"ef7db420-f5b6-4f4d-cf13-e68a43ea9a48\",\"attributes\":{\"id\":\"ef7db420-f5b6-4f4d-cf13-e68a43ea9a48\",\"dimensions\":[\"width\",\"height\"],\"tags\":[],\"plot\":{\"type\":\"Plot\",\"id\":\"c1505bfa-a710-47ab-c792-56341ff78adc\",\"subtype\":\"Figure\"},\"doc\":null}},{\"type\":\"BoxZoomTool\",\"id\":\"37a2c3a6-9b6d-4c38-cce3-fcc58d622036\",\"attributes\":{\"plot\":{\"type\":\"Plot\",\"id\":\"c1505bfa-a710-47ab-c792-56341ff78adc\",\"subtype\":\"Figure\"},\"tags\":[],\"doc\":null,\"id\":\"37a2c3a6-9b6d-4c38-cce3-fcc58d622036\"}},{\"type\":\"PreviewSaveTool\",\"id\":\"72b022b6-dcba-46a4-c6a1-fa562472a563\",\"attributes\":{\"plot\":{\"type\":\"Plot\",\"id\":\"c1505bfa-a710-47ab-c792-56341ff78adc\",\"subtype\":\"Figure\"},\"tags\":[],\"doc\":null,\"id\":\"72b022b6-dcba-46a4-c6a1-fa562472a563\"}},{\"type\":\"ResizeTool\",\"id\":\"446857dd-a5fe-40e0-c006-01c50852d0ec\",\"attributes\":{\"plot\":{\"type\":\"Plot\",\"id\":\"c1505bfa-a710-47ab-c792-56341ff78adc\",\"subtype\":\"Figure\"},\"tags\":[],\"doc\":null,\"id\":\"446857dd-a5fe-40e0-c006-01c50852d0ec\"}},{\"type\":\"ResetTool\",\"id\":\"03752df3-dd54-4b4f-cbd5-ed6f65657f77\",\"attributes\":{\"plot\":{\"type\":\"Plot\",\"id\":\"c1505bfa-a710-47ab-c792-56341ff78adc\",\"subtype\":\"Figure\"},\"tags\":[],\"doc\":null,\"id\":\"03752df3-dd54-4b4f-cbd5-ed6f65657f77\"}},{\"type\":\"Plot\",\"id\":\"c1505bfa-a710-47ab-c792-56341ff78adc\",\"attributes\":{\"tool_events\":{\"type\":\"ToolEvents\",\"id\":\"3a0ea3d0-71f3-457d-c5bc-d48fe5996834\"},\"renderers\":[{\"type\":\"GlyphRenderer\",\"id\":\"bfe180b5-8683-4a5c-caf0-abd2dddadd95\"},{\"type\":\"LinearAxis\",\"id\":\"8143a44f-df9b-4b14-cbad-4fb32be0ebfa\"},{\"type\":\"Grid\",\"id\":\"4bee9d15-7d0b-4871-c8f4-8f48ed352438\"},{\"type\":\"LinearAxis\",\"id\":\"eff9519f-caa2-45f9-c53a-9830e0378023\"},{\"type\":\"Grid\",\"id\":\"8ec66a3b-a13e-4aa0-ca3c-de6bf08511ab\"}],\"x_range\":{\"type\":\"DataRange1d\",\"id\":\"f0b18290-d4b1-4879-c803-7f2e7e28bf69\"},\"above\":[],\"right\":[],\"title\":\"Class probabilities of a single sample (untrained)\",\"left\":[{\"type\":\"LinearAxis\",\"id\":\"eff9519f-caa2-45f9-c53a-9830e0378023\"}],\"extra_y_ranges\":{},\"y_range\":{\"type\":\"DataRange1d\",\"id\":\"5c41ee7e-a5f1-4d93-cdd1-fe8af31ba841\"},\"doc\":null,\"extra_x_ranges\":{},\"below\":[{\"type\":\"LinearAxis\",\"id\":\"8143a44f-df9b-4b14-cbad-4fb32be0ebfa\"}],\"tags\":[],\"id\":\"c1505bfa-a710-47ab-c792-56341ff78adc\",\"tools\":[{\"type\":\"PanTool\",\"id\":\"88cc4bdd-3e96-4863-c850-377de42827f5\"},{\"type\":\"WheelZoomTool\",\"id\":\"ef7db420-f5b6-4f4d-cf13-e68a43ea9a48\"},{\"type\":\"BoxZoomTool\",\"id\":\"37a2c3a6-9b6d-4c38-cce3-fcc58d622036\"},{\"type\":\"PreviewSaveTool\",\"id\":\"72b022b6-dcba-46a4-c6a1-fa562472a563\"},{\"type\":\"ResizeTool\",\"id\":\"446857dd-a5fe-40e0-c006-01c50852d0ec\"},{\"type\":\"ResetTool\",\"id\":\"03752df3-dd54-4b4f-cbd5-ed6f65657f77\"}]}}];\n",
       "  Bokeh.load_models(all_models);\n",
       "  var model = Bokeh.Collections(modeltype).get(modelid);\n",
       "  $(\"#717f29e0-ac3b-4260-c230-4a3ae3b1d7ca\").html(''); // clear any previous plot in window_id\n",
       "  var view = new model.default_view({model: model, el: \"#717f29e0-ac3b-4260-c230-4a3ae3b1d7ca\"});\n",
       "    } else {\n",
       "  load_lib(bokehjs_url, function() {\n",
       "      console.log(\"Bokeh: BokehJS plotting callback run at\", new Date())\n",
       "      var modelid = \"c1505bfa-a710-47ab-c792-56341ff78adc\";\n",
       "      var modeltype = \"Plot\";\n",
       "      var all_models = [{\"type\":\"ColumnDataSource\",\"id\":\"5678dbe2-356c-420b-c283-bdc9c33e9628\",\"attributes\":{\"column_names\":[\"x\",\"y\"],\"cont_ranges\":{},\"doc\":null,\"data\":{\"y\":[0.089526607181465,0.10115204941098,0.093023102213019,0.086878144078972,0.097275704220624,0.091337380739824,0.1578973678488,0.092369653835889,0.11199412670721,0.078545863763226],\"x\":[1,2,3,4,5,6,7,8,9,10]},\"id\":\"5678dbe2-356c-420b-c283-bdc9c33e9628\",\"tags\":[],\"discrete_ranges\":{},\"selected\":[]}},{\"type\":\"Line\",\"id\":\"defb1539-9055-4585-c583-5ac3392c3b9e\",\"attributes\":{\"fill_alpha\":{\"units\":\"data\",\"value\":0.2},\"x\":{\"units\":\"data\",\"field\":\"x\"},\"fill_color\":{\"value\":\"red\"},\"line_color\":{\"value\":\"red\"},\"size\":{\"units\":\"screen\",\"value\":10},\"id\":\"defb1539-9055-4585-c583-5ac3392c3b9e\",\"y\":{\"units\":\"data\",\"field\":\"y\"},\"tags\":[],\"line_alpha\":{\"units\":\"data\",\"value\":1},\"doc\":null}},{\"type\":\"Line\",\"id\":\"ecd12ce1-efb6-41ba-c186-13f5b3144f7e\",\"attributes\":{\"fill_alpha\":{\"units\":\"data\",\"value\":0.2},\"x\":{\"units\":\"data\",\"field\":\"x\"},\"fill_color\":{\"value\":\"red\"},\"line_color\":{\"value\":\"red\"},\"size\":{\"units\":\"screen\",\"value\":10},\"id\":\"ecd12ce1-efb6-41ba-c186-13f5b3144f7e\",\"y\":{\"units\":\"data\",\"field\":\"y\"},\"tags\":[],\"line_alpha\":{\"units\":\"data\",\"value\":1},\"doc\":null}},{\"type\":\"GlyphRenderer\",\"id\":\"bfe180b5-8683-4a5c-caf0-abd2dddadd95\",\"attributes\":{\"nonselection_glyph\":{\"type\":\"Line\",\"id\":\"ecd12ce1-efb6-41ba-c186-13f5b3144f7e\"},\"selection_glyph\":null,\"glyph\":{\"type\":\"Line\",\"id\":\"defb1539-9055-4585-c583-5ac3392c3b9e\"},\"doc\":null,\"name\":null,\"id\":\"bfe180b5-8683-4a5c-caf0-abd2dddadd95\",\"tags\":[],\"data_source\":{\"type\":\"ColumnDataSource\",\"id\":\"5678dbe2-356c-420b-c283-bdc9c33e9628\"},\"server_data_source\":null}},{\"type\":\"DataRange1d\",\"id\":\"f0b18290-d4b1-4879-c803-7f2e7e28bf69\",\"attributes\":{\"sources\":[{\"source\":{\"id\":\"5678dbe2-356c-420b-c283-bdc9c33e9628\",\"type\":\"ColumnDataSource\"},\"columns\":[\"x\"]}],\"tags\":[],\"doc\":null,\"id\":\"f0b18290-d4b1-4879-c803-7f2e7e28bf69\"}},{\"type\":\"DataRange1d\",\"id\":\"5c41ee7e-a5f1-4d93-cdd1-fe8af31ba841\",\"attributes\":{\"sources\":[{\"source\":{\"id\":\"5678dbe2-356c-420b-c283-bdc9c33e9628\",\"type\":\"ColumnDataSource\"},\"columns\":[\"y\"]}],\"tags\":[],\"doc\":null,\"id\":\"5c41ee7e-a5f1-4d93-cdd1-fe8af31ba841\"}},{\"type\":\"ToolEvents\",\"id\":\"3a0ea3d0-71f3-457d-c5bc-d48fe5996834\",\"attributes\":{\"geometries\":[],\"tags\":[],\"doc\":null,\"id\":\"3a0ea3d0-71f3-457d-c5bc-d48fe5996834\"}},{\"type\":\"BasicTickFormatter\",\"id\":\"39656adf-92c6-4ca4-cc86-10bcc8620b8c\",\"attributes\":{\"tags\":[],\"doc\":null,\"id\":\"39656adf-92c6-4ca4-cc86-10bcc8620b8c\"}},{\"type\":\"BasicTicker\",\"id\":\"d3ddde94-5d2a-419e-c1b9-733318b7d2c6\",\"attributes\":{\"num_minor_ticks\":5,\"tags\":[],\"doc\":null,\"id\":\"d3ddde94-5d2a-419e-c1b9-733318b7d2c6\"}},{\"type\":\"LinearAxis\",\"id\":\"8143a44f-df9b-4b14-cbad-4fb32be0ebfa\",\"attributes\":{\"formatter\":{\"type\":\"BasicTickFormatter\",\"id\":\"39656adf-92c6-4ca4-cc86-10bcc8620b8c\"},\"id\":\"8143a44f-df9b-4b14-cbad-4fb32be0ebfa\",\"axis_label\":\"Class ID\",\"ticker\":{\"type\":\"BasicTicker\",\"id\":\"d3ddde94-5d2a-419e-c1b9-733318b7d2c6\"},\"tags\":[],\"plot\":{\"type\":\"Plot\",\"id\":\"c1505bfa-a710-47ab-c792-56341ff78adc\",\"subtype\":\"Figure\"},\"doc\":null}},{\"type\":\"Grid\",\"id\":\"4bee9d15-7d0b-4871-c8f4-8f48ed352438\",\"attributes\":{\"ticker\":{\"type\":\"BasicTicker\",\"id\":\"d3ddde94-5d2a-419e-c1b9-733318b7d2c6\"},\"dimension\":0,\"id\":\"4bee9d15-7d0b-4871-c8f4-8f48ed352438\",\"tags\":[],\"plot\":{\"type\":\"Plot\",\"id\":\"c1505bfa-a710-47ab-c792-56341ff78adc\",\"subtype\":\"Figure\"},\"doc\":null}},{\"type\":\"BasicTickFormatter\",\"id\":\"9ee3c59e-5367-4d13-cdbc-2593f10a1358\",\"attributes\":{\"tags\":[],\"doc\":null,\"id\":\"9ee3c59e-5367-4d13-cdbc-2593f10a1358\"}},{\"type\":\"BasicTicker\",\"id\":\"0b8b9cee-19ec-4dec-cdb7-0f0f78097d5e\",\"attributes\":{\"num_minor_ticks\":5,\"tags\":[],\"doc\":null,\"id\":\"0b8b9cee-19ec-4dec-cdb7-0f0f78097d5e\"}},{\"type\":\"LinearAxis\",\"id\":\"eff9519f-caa2-45f9-c53a-9830e0378023\",\"attributes\":{\"formatter\":{\"type\":\"BasicTickFormatter\",\"id\":\"9ee3c59e-5367-4d13-cdbc-2593f10a1358\"},\"id\":\"eff9519f-caa2-45f9-c53a-9830e0378023\",\"axis_label\":\"Class probabilities (0-1)\",\"ticker\":{\"type\":\"BasicTicker\",\"id\":\"0b8b9cee-19ec-4dec-cdb7-0f0f78097d5e\"},\"tags\":[],\"plot\":{\"type\":\"Plot\",\"id\":\"c1505bfa-a710-47ab-c792-56341ff78adc\",\"subtype\":\"Figure\"},\"doc\":null}},{\"type\":\"Grid\",\"id\":\"8ec66a3b-a13e-4aa0-ca3c-de6bf08511ab\",\"attributes\":{\"ticker\":{\"type\":\"BasicTicker\",\"id\":\"0b8b9cee-19ec-4dec-cdb7-0f0f78097d5e\"},\"dimension\":1,\"id\":\"8ec66a3b-a13e-4aa0-ca3c-de6bf08511ab\",\"tags\":[],\"plot\":{\"type\":\"Plot\",\"id\":\"c1505bfa-a710-47ab-c792-56341ff78adc\",\"subtype\":\"Figure\"},\"doc\":null}},{\"type\":\"PanTool\",\"id\":\"88cc4bdd-3e96-4863-c850-377de42827f5\",\"attributes\":{\"id\":\"88cc4bdd-3e96-4863-c850-377de42827f5\",\"dimensions\":[\"width\",\"height\"],\"tags\":[],\"plot\":{\"type\":\"Plot\",\"id\":\"c1505bfa-a710-47ab-c792-56341ff78adc\",\"subtype\":\"Figure\"},\"doc\":null}},{\"type\":\"WheelZoomTool\",\"id\":\"ef7db420-f5b6-4f4d-cf13-e68a43ea9a48\",\"attributes\":{\"id\":\"ef7db420-f5b6-4f4d-cf13-e68a43ea9a48\",\"dimensions\":[\"width\",\"height\"],\"tags\":[],\"plot\":{\"type\":\"Plot\",\"id\":\"c1505bfa-a710-47ab-c792-56341ff78adc\",\"subtype\":\"Figure\"},\"doc\":null}},{\"type\":\"BoxZoomTool\",\"id\":\"37a2c3a6-9b6d-4c38-cce3-fcc58d622036\",\"attributes\":{\"plot\":{\"type\":\"Plot\",\"id\":\"c1505bfa-a710-47ab-c792-56341ff78adc\",\"subtype\":\"Figure\"},\"tags\":[],\"doc\":null,\"id\":\"37a2c3a6-9b6d-4c38-cce3-fcc58d622036\"}},{\"type\":\"PreviewSaveTool\",\"id\":\"72b022b6-dcba-46a4-c6a1-fa562472a563\",\"attributes\":{\"plot\":{\"type\":\"Plot\",\"id\":\"c1505bfa-a710-47ab-c792-56341ff78adc\",\"subtype\":\"Figure\"},\"tags\":[],\"doc\":null,\"id\":\"72b022b6-dcba-46a4-c6a1-fa562472a563\"}},{\"type\":\"ResizeTool\",\"id\":\"446857dd-a5fe-40e0-c006-01c50852d0ec\",\"attributes\":{\"plot\":{\"type\":\"Plot\",\"id\":\"c1505bfa-a710-47ab-c792-56341ff78adc\",\"subtype\":\"Figure\"},\"tags\":[],\"doc\":null,\"id\":\"446857dd-a5fe-40e0-c006-01c50852d0ec\"}},{\"type\":\"ResetTool\",\"id\":\"03752df3-dd54-4b4f-cbd5-ed6f65657f77\",\"attributes\":{\"plot\":{\"type\":\"Plot\",\"id\":\"c1505bfa-a710-47ab-c792-56341ff78adc\",\"subtype\":\"Figure\"},\"tags\":[],\"doc\":null,\"id\":\"03752df3-dd54-4b4f-cbd5-ed6f65657f77\"}},{\"type\":\"Plot\",\"id\":\"c1505bfa-a710-47ab-c792-56341ff78adc\",\"attributes\":{\"tool_events\":{\"type\":\"ToolEvents\",\"id\":\"3a0ea3d0-71f3-457d-c5bc-d48fe5996834\"},\"renderers\":[{\"type\":\"GlyphRenderer\",\"id\":\"bfe180b5-8683-4a5c-caf0-abd2dddadd95\"},{\"type\":\"LinearAxis\",\"id\":\"8143a44f-df9b-4b14-cbad-4fb32be0ebfa\"},{\"type\":\"Grid\",\"id\":\"4bee9d15-7d0b-4871-c8f4-8f48ed352438\"},{\"type\":\"LinearAxis\",\"id\":\"eff9519f-caa2-45f9-c53a-9830e0378023\"},{\"type\":\"Grid\",\"id\":\"8ec66a3b-a13e-4aa0-ca3c-de6bf08511ab\"}],\"x_range\":{\"type\":\"DataRange1d\",\"id\":\"f0b18290-d4b1-4879-c803-7f2e7e28bf69\"},\"above\":[],\"right\":[],\"title\":\"Class probabilities of a single sample (untrained)\",\"left\":[{\"type\":\"LinearAxis\",\"id\":\"eff9519f-caa2-45f9-c53a-9830e0378023\"}],\"extra_y_ranges\":{},\"y_range\":{\"type\":\"DataRange1d\",\"id\":\"5c41ee7e-a5f1-4d93-cdd1-fe8af31ba841\"},\"doc\":null,\"extra_x_ranges\":{},\"below\":[{\"type\":\"LinearAxis\",\"id\":\"8143a44f-df9b-4b14-cbad-4fb32be0ebfa\"}],\"tags\":[],\"id\":\"c1505bfa-a710-47ab-c792-56341ff78adc\",\"tools\":[{\"type\":\"PanTool\",\"id\":\"88cc4bdd-3e96-4863-c850-377de42827f5\"},{\"type\":\"WheelZoomTool\",\"id\":\"ef7db420-f5b6-4f4d-cf13-e68a43ea9a48\"},{\"type\":\"BoxZoomTool\",\"id\":\"37a2c3a6-9b6d-4c38-cce3-fcc58d622036\"},{\"type\":\"PreviewSaveTool\",\"id\":\"72b022b6-dcba-46a4-c6a1-fa562472a563\"},{\"type\":\"ResizeTool\",\"id\":\"446857dd-a5fe-40e0-c006-01c50852d0ec\"},{\"type\":\"ResetTool\",\"id\":\"03752df3-dd54-4b4f-cbd5-ed6f65657f77\"}]}}];\n",
       "      Bokeh.load_models(all_models);\n",
       "      var model = Bokeh.Collections(modeltype).get(modelid);\n",
       "      $(\"#717f29e0-ac3b-4260-c230-4a3ae3b1d7ca\").html(''); // clear any previous plot in window_id\n",
       "      var view = new model.default_view({model: model, el: \"#717f29e0-ac3b-4260-c230-4a3ae3b1d7ca\"});\n",
       "  });\n",
       "    }\n",
       "});\n",
       "</script>\n",
       "<div class=\"plotdiv\" id=\"717f29e0-ac3b-4260-c230-4a3ae3b1d7ca\"></div>\n"
      ]
     },
     "metadata": {},
     "output_type": "display_data"
    }
   ],
   "source": [
    "-- SGD on one image + label\n",
    "loss, gradParams, prediction = df(net, criterion, trainset.data[1], trainset.label[1])\n",
    "\n",
    "-- Now update the parameters with some learning rate\n",
    "params:add(-1e-2, gradParams)\n",
    "\n",
    "-- And now make a plot to see what our class probabilities look like\n",
    "classLogProbabilities = predict(net, trainset.data[1])\n",
    "-- print(prediction,trainset.label[1])\n",
    "classProbabilities = torch.exp(classLogProbabilities) -- we get out log probabilities, but we'd like regular ones\n",
    "p = Plot()\n",
    "    :line(torch.range(1,#classes),classProbabilities)\n",
    "    :yaxis(\"Class probabilities (0-1)\")\n",
    "    :xaxis(\"Class ID\")\n",
    "    :title(\"Class probabilities of a single sample (untrained)\")\n",
    "    :draw()"
   ]
  },
  {
   "cell_type": "markdown",
   "metadata": {},
   "source": [
    "### Alright, we're ready to loop over our data and really learn. First -- some reporting\n",
    "\n",
    "We've convinced ourselves the network can learn something, at least it can overfit on a single sample.  \n",
    "However, can it learn to make accurate predictions across a distribution of input data, and for more than just one input class?  \n",
    "In order to track performance during training, we'll use a confusion matrix to visualize how often the network is making correct predictions, and what are the types of mistakes it is making."
   ]
  },
  {
   "cell_type": "code",
   "execution_count": 51,
   "metadata": {
    "collapsed": false
   },
   "outputs": [],
   "source": [
    "-- The library 'optim' contains lots of useful utilities, but we'll just use this one guy\n",
    "confusionMatrix = require('optim').ConfusionMatrix(classes)"
   ]
  },
  {
   "cell_type": "markdown",
   "metadata": {},
   "source": [
    "### Our reporting is ready. Let's learn."
   ]
  },
  {
   "cell_type": "code",
   "execution_count": 52,
   "metadata": {
    "collapsed": false
   },
   "outputs": [
    {
     "data": {
      "text/plain": [
       "Working on epoch 1/5\t\n"
      ]
     },
     "execution_count": 52,
     "metadata": {},
     "output_type": "execute_result"
    },
    {
     "data": {
      "text/plain": [
       "ConfusionMatrix:\n",
       "[[     521      22       1       2       2      24     168      13     145     107]   51.841% \t[class: airplane]\n",
       " [     113      46       0       3       3      14     404      16     173     202]   4.723% \t[class: automobile]\n",
       " [     291      23       1       1       5      20     476      36      71     108]   0.097% \t[class: bird]\n",
       " [     173      17       2       6       9      74     493      31      84     127]   0.591% \t[class: cat]\n",
       " [     138      21       1       0      11      39     581      20      73     115]   1.101% \t[class: deer]\n",
       " [     192      14       2       3       9      69     453      15     109      71]   7.364% \t[class: dog]\n",
       " [      86      25       1       1       3      37     691      31      49     106]   67.087% \t[class: frog]\n",
       " [     171      27       3       8      10      46     426      46     103     161]   4.595% \t[class: horse]\n",
       " [     417      17       0       1       1      42     170       9     238     130]   23.220% \t[class: ship]\n",
       " [     181      33       0       1       1      10     233      17     188     317]]  32.314% \t[class: truck]\n",
       " + average row correct: 19.293232536875% \n",
       " + average rowUcol correct (VOC measure): 7.6305543107446% \n",
       " + global correct: 19.46%\n",
       "{\n",
       "  _mat_flat : LongTensor - size: 100\n",
       "  unionvalids : FloatTensor - size: 10\n",
       "  mat : LongTensor - size: 10x10\n",
       "  _max : FloatTensor - size: 1\n",
       "  averageUnionValid : 0.076305543107446\n",
       "  valids : FloatTensor - size: 10\n",
       "  totalValid : 0.1946\n",
       "  _targ_idx : LongTensor - empty\n",
       "  _pred_idx : LongTensor - size: 1\n",
       "  _prediction : FloatTensor - size: 10\n",
       "  averageValid : 0.19293232536875\n",
       "  _target : FloatTensor - empty\n",
       "  nclasses : 10\n",
       "  classes : \n",
       "    {\n",
       "      1 : airplane\n",
       "      2 : automobile\n",
       "      3 : bird\n",
       "      4 : cat\n",
       "      5 : deer\n",
       "      6 : dog\n",
       "      7 : frog\n",
       "      8 : horse\n",
       "      9 : ship\n",
       "      10 : truck\n",
       "    }\n",
       "}\n",
       "Working on epoch 2/5\t\n"
      ]
     },
     "execution_count": 52,
     "metadata": {},
     "output_type": "execute_result"
    },
    {
     "data": {
      "text/plain": [
       "ConfusionMatrix:\n",
       "[[     434      78       3       9       5      37      51      44     208     136]   43.184% \t[class: airplane]\n",
       " [      55     275       0       7       9      42     165      37     141     243]   28.234% \t[class: automobile]\n",
       " [     202      83      20       6      27      66     363     116      36     113]   1.938% \t[class: bird]\n",
       " [      82      66      10      30      38     197     326      95      62     110]   2.953% \t[class: cat]\n",
       " [      68      53       4      14      56     106     461      92      32     113]   5.606% \t[class: deer]\n",
       " [      64      56      11      25      31     261     255      84      79      71]   27.855% \t[class: dog]\n",
       " [      32      62       4      13      21      79     605     101      15      98]   58.738% \t[class: frog]\n",
       " [      59      88       9      27      57     101     247     192      53     168]   19.181% \t[class: horse]\n",
       " [     220      92       1       5       3      81      36      22     350     215]   34.146% \t[class: ship]\n",
       " [      45     120       2       3      10      17     101      64     172     447]]  45.566% \t[class: truck]\n",
       " + average row correct: 26.740014050156% \n",
       " + average rowUcol correct (VOC measure): 13.563569094986% \n",
       " + global correct: 26.7%\n",
       "{\n",
       "  _mat_flat : LongTensor - size: 100\n",
       "  unionvalids : FloatTensor - size: 10\n",
       "  mat : LongTensor - size: 10x10\n",
       "  _max : FloatTensor - size: 1\n",
       "  averageUnionValid : 0.13563569094986\n",
       "  valids : FloatTensor - size: 10\n",
       "  totalValid : 0.267\n",
       "  _targ_idx : LongTensor - empty\n",
       "  _pred_idx : LongTensor - size: 1\n",
       "  _prediction : FloatTensor - size: 10\n",
       "  averageValid : 0.26740014050156\n",
       "  _target : FloatTensor - empty\n",
       "  nclasses : 10\n",
       "  classes : \n",
       "    {\n",
       "      1 : airplane\n",
       "      2 : automobile\n",
       "      3 : bird\n",
       "      4 : cat\n",
       "      5 : deer\n",
       "      6 : dog\n",
       "      7 : frog\n",
       "     "
      ]
     },
     "execution_count": 52,
     "metadata": {},
     "output_type": "execute_result"
    },
    {
     "data": {
      "text/plain": [
       " 8 : horse\n",
       "      9 : ship\n",
       "      10 : truck\n",
       "    }\n",
       "}\n",
       "Working on epoch 3/5\t\n"
      ]
     },
     "execution_count": 52,
     "metadata": {},
     "output_type": "execute_result"
    },
    {
     "data": {
      "text/plain": [
       "ConfusionMatrix:\n",
       "[[     458      98       2      10       1      39      31      62     211      93]   45.572% \t[class: airplane]\n",
       " [      53     357       0      17       6      47     122      48     124     200]   36.653% \t[class: automobile]\n",
       " [     173     104      34      28      24      85     317     165      30      72]   3.295% \t[class: bird]\n",
       " [      53      97      22      73      25     231     260     138      35      82]   7.185% \t[class: cat]\n",
       " [      60      48      12      29      55     112     445     136      25      77]   5.506% \t[class: deer]\n",
       " [      28      75      26      67      21     330     188     112      41      49]   35.219% \t[class: dog]\n",
       " [      20      66      11      29      20      97     583     142       8      54]   56.602% \t[class: frog]\n",
       " [      41     103       7      32      32     114     191     320      32     129]   31.968% \t[class: horse]\n",
       " [     229     113       3       9       2      87      17      24     370     171]   36.098% \t[class: ship]\n",
       " [      49     167       3       9       7      20      79      90     146     411]]  41.896% \t[class: truck]\n",
       " + average row correct: 29.99925788492% \n",
       " + average rowUcol correct (VOC measure): 16.055122166872% \n",
       " + global correct: 29.91%\n",
       "{\n",
       "  _mat_flat : LongTensor - size: 100\n",
       "  unionvalids : FloatTensor - size: 10\n",
       "  mat : LongTensor - size: 10x10\n",
       "  _max : FloatTensor - size: 1\n",
       "  averageUnionValid : 0.16055122166872\n",
       "  valids : FloatTensor - size: 10\n",
       "  totalValid : 0.2991\n",
       "  _targ_idx : LongTensor - empty\n",
       "  _pred_idx : LongTensor - size: 1\n",
       "  _prediction : FloatTensor - size: 10\n",
       "  averageValid : 0.2999925788492\n",
       "  _target : FloatTensor - empty\n",
       "  nclasses : 10\n",
       "  classes : \n",
       "    {\n",
       "      1 : airplane\n",
       "      2 : automobile\n",
       "      3 : bird\n",
       "      4 : cat\n",
       "      5 : deer\n",
       "      6 : dog\n",
       "      7 : frog\n",
       "      8 : horse\n",
       "      9 : ship\n",
       "      10 : truck\n",
       "    }\n",
       "}\n",
       "Working on epoch 4/5\t\n"
      ]
     },
     "execution_count": 52,
     "metadata": {},
     "output_type": "execute_result"
    },
    {
     "data": {
      "text/plain": [
       "ConfusionMatrix:\n",
       "[[     464     100       4      14       4      31      24      71     207      86]   46.169% \t[class: airplane]\n",
       " [      55     425       1      22       7      40      75      53     100     196]   43.634% \t[class: automobile]\n",
       " [     149     104      92      37      62      86     265     153      28      56]   8.915% \t[class: bird]\n",
       " [      41     104      49     112      40     220     216     122      31      81]   11.024% \t[class: cat]\n",
       " [      62      57      32      39     124      99     362     139      26      59]   12.412% \t[class: deer]\n",
       " [      25      71      47      95      25     327     150     113      37      47]   34.899% \t[class: dog]\n",
       " [      18      61      25      47      40      93     570     120       5      51]   55.340% \t[class: frog]\n",
       " [      44      97      29      35      59     102     139     358      29     109]   35.764% \t[class: horse]\n",
       " [     210     119       6      12       2      71      15      24     399     167]   38.927% \t[class: ship]\n",
       " [      46     193      10      11       6      20      67      66     136     426]]  43.425% \t[class: truck]\n",
       " + average row correct: 33.050897344947% \n",
       " + average rowUcol correct (VOC measure): 18.710420355201% \n",
       " + global correct: 32.97%\n",
       "{\n",
       "  _mat_flat : LongTensor - size: 100\n",
       "  unionvalids : FloatTensor - size: 10\n",
       "  mat : LongTensor - size: 10x10\n",
       "  _max : FloatTensor - size: 1\n",
       "  averageUnionValid : 0.18710420355201\n",
       "  valids : FloatTensor - size: 10\n",
       "  totalValid : 0.3297\n",
       "  _targ_idx : LongTensor - empty\n",
       "  _pred_idx : LongTensor - size: 1\n",
       "  _prediction : FloatTensor - size: 10\n",
       "  averageValid : 0.33050897344947\n"
      ]
     },
     "execution_count": 52,
     "metadata": {},
     "output_type": "execute_result"
    },
    {
     "data": {
      "text/plain": [
       "  _target : FloatTensor - empty\n",
       "  nclasses : 10\n",
       "  classes : \n",
       "    {\n",
       "      1 : airplane\n",
       "      2 : automobile\n",
       "      3 : bird\n",
       "      4 : cat\n",
       "      5 : deer\n",
       "      6 : dog\n",
       "      7 : frog\n",
       "      8 : horse\n",
       "      9 : ship\n",
       "      10 : truck\n",
       "    }\n",
       "}\n",
       "Working on epoch 5/5\t\n"
      ]
     },
     "execution_count": 52,
     "metadata": {},
     "output_type": "execute_result"
    },
    {
     "data": {
      "text/plain": [
       "ConfusionMatrix:\n",
       "[[     465      92      17      22      12      27      22      67     205      76]   46.269% \t[class: airplane]\n",
       " [      50     467       3      22       9      42      55      44      87     195]   47.947% \t[class: automobile]\n",
       " [     140      80     168      52     102      75     225     124      29      37]   16.279% \t[class: bird]\n",
       " [      37      87      71     165      47     213     180     105      32      79]   16.240% \t[class: cat]\n",
       " [      66      43      81      52     209      81     277     124      24      42]   20.921% \t[class: deer]\n",
       " [      24      51      82     119      38     334     124     100      27      38]   35.646% \t[class: dog]\n",
       " [      14      60      47      64      56      88     564      86       7      44]   54.757% \t[class: frog]\n",
       " [      37      76      51      44      92      90      93     397      31      90]   39.660% \t[class: horse]\n",
       " [     206     111      11      13       0      66      12      28     421     157]   41.073% \t[class: ship]\n",
       " [      45     214      14      18       5      19      58      47     119     442]]  45.056% \t[class: truck]\n",
       " + average row correct: 36.38479501009% \n",
       " + average rowUcol correct (VOC measure): 21.616712808609% \n",
       " + global correct: 36.32%\n",
       "{\n",
       "  _mat_flat : LongTensor - size: 100\n",
       "  unionvalids : FloatTensor - size: 10\n",
       "  mat : LongTensor - size: 10x10\n",
       "  _max : FloatTensor - size: 1\n",
       "  averageUnionValid : 0.21616712808609\n",
       "  valids : FloatTensor - size: 10\n",
       "  totalValid : 0.3632\n",
       "  _targ_idx : LongTensor - empty\n",
       "  _pred_idx : LongTensor - size: 1\n",
       "  _prediction : FloatTensor - size: 10\n",
       "  averageValid : 0.3638479501009\n",
       "  _target : FloatTensor - empty\n",
       "  nclasses : 10\n",
       "  classes : \n",
       "    {\n",
       "      1 : airplane\n",
       "      2 : automobile\n",
       "      3 : bird\n",
       "      4 : cat\n",
       "      5 : deer\n",
       "      6 : dog\n",
       "      7 : frog\n",
       "      8 : horse\n",
       "      9 : ship\n",
       "      10 : truck\n",
       "    }\n",
       "}\n"
      ]
     },
     "execution_count": 52,
     "metadata": {},
     "output_type": "execute_result"
    }
   ],
   "source": [
    "-- Loop over the data for a few epochs, with xlua reporting, confusion matrix accumulation.\n",
    "nEpochs = 5\n",
    "nTrainingExamples = trainset.data:size(1)\n",
    "learningRate = 1e-3\n",
    "\n",
    "for e=1,nEpochs do\n",
    "   confusionMatrix:zero()\n",
    "   print(\"Working on epoch \"..tostring(e)..\"/\"..tostring(nEpochs))\n",
    "\n",
    "   -- Training loop\n",
    "   for i=1,nTrainingExamples/batchSize do\n",
    "\n",
    "      -- Get data\n",
    "      data = makeBatch(trainset, i)\n",
    "\n",
    "      -- Get gradient and prediction\n",
    "      loss, gradients, prediction = df(net, criterion, data.data, data.label)\n",
    "\n",
    "      -- Update parameters\n",
    "      params:add(-learningRate, gradients)\n",
    "\n",
    "      -- Update confusion matrix\n",
    "      for i=1,prediction:size(1) do\n",
    "         confusionMatrix:add(prediction[i], data.label[i])\n",
    "      end\n",
    "\n",
    "   end\n",
    "   print(confusionMatrix)\n",
    "end"
   ]
  },
  {
   "cell_type": "code",
   "execution_count": 53,
   "metadata": {
    "collapsed": false
   },
   "outputs": [
    {
     "data": {
      "text/plain": [
       "ConfusionMatrix:\n",
       "[[     465      92      17      22      12      27      22      67     205      76]   46.269% \t[class: airplane]\n",
       " [      50     467       3      22       9      42      55      44      87     195]   47.947% \t[class: automobile]\n",
       " [     140      80     168      52     102      75     225     124      29      37]   16.279% \t[class: bird]\n",
       " [      37      87      71     165      47     213     180     105      32      79]   16.240% \t[class: cat]\n",
       " [      66      43      81      52     209      81     277     124      24      42]   20.921% \t[class: deer]\n",
       " [      24      51      82     119      38     334     124     100      27      38]   35.646% \t[class: dog]\n",
       " [      14      60      47      64      56      88     564      86       7      44]   54.757% \t[class: frog]\n",
       " [      37      76      51      44      92      90      93     397      31      90]   39.660% \t[class: horse]\n",
       " [     206     111      11      13       0      66      12      28     421     157]   41.073% \t[class: ship]\n",
       " [      45     214      14      18       5      19      58      47     119     442]]  45.056% \t[class: truck]\n",
       " + average row correct: 36.38479501009% \n",
       " + average rowUcol correct (VOC measure): 21.616712808609% \n",
       " + global correct: 36.32%\n",
       "{\n",
       "  _mat_flat : LongTensor - size: 100\n",
       "  unionvalids : FloatTensor - size: 10\n",
       "  mat : LongTensor - size: 10x10\n",
       "  _max : FloatTensor - size: 1\n",
       "  averageUnionValid : 0.21616712808609\n",
       "  valids : FloatTensor - size: 10\n",
       "  totalValid : 0.3632\n",
       "  _targ_idx : LongTensor - empty\n",
       "  _pred_idx : LongTensor - size: 1\n",
       "  _prediction : FloatTensor - size: 10\n",
       "  averageValid : 0.3638479501009\n",
       "  _target : FloatTensor - empty\n",
       "  nclasses : 10\n",
       "  classes : \n",
       "    {\n",
       "      1 : airplane\n",
       "      2 : automobile\n",
       "      3 : bird\n"
      ]
     },
     "execution_count": 53,
     "metadata": {},
     "output_type": "execute_result"
    },
    {
     "data": {
      "text/plain": [
       "      4 : cat\n",
       "      5 : deer\n",
       "      6 : dog\n",
       "      7 : frog\n",
       "      8 : horse\n",
       "      9 : ship\n",
       "      10 : truck\n",
       "    }\n",
       "}\n"
      ]
     },
     "execution_count": 53,
     "metadata": {},
     "output_type": "execute_result"
    }
   ],
   "source": [
    "print(confusionMatrix)"
   ]
  },
  {
   "cell_type": "markdown",
   "metadata": {},
   "source": [
    "### We're reducing training error. But how are we doing on a validation dataset?"
   ]
  },
  {
   "cell_type": "markdown",
   "metadata": {},
   "source": [
    "__Test the network, print accuracy__\n",
    "\n",
    "We have trained the network over the training dataset. It's doing ok, not great.  \n",
    "But we need to check if the network has overfit, or can generalize to similar data.  \n",
    "We will check this by predicting the class label that the neural network outputs, and checking it against the ground-truth. If the prediction is correct, we add the sample to the list of correct predictions."
   ]
  },
  {
   "cell_type": "markdown",
   "metadata": {},
   "source": [
    "We'll need to normalize the validation dataset, using the same statistics we computed for training dataset"
   ]
  },
  {
   "cell_type": "code",
   "execution_count": 54,
   "metadata": {
    "collapsed": true
   },
   "outputs": [],
   "source": [
    "testset.data = testset.data:double()   -- convert from Byte tensor to Double tensor\n",
    "for i=1,3 do -- over each image channel\n",
    "    testset.data[{ {}, {i}, {}, {}  }]:add(-mean[i]) -- mean subtraction    \n",
    "    testset.data[{ {}, {i}, {}, {}  }]:div(stdv[i]) -- std scaling\n",
    "end"
   ]
  },
  {
   "cell_type": "markdown",
   "metadata": {},
   "source": [
    "Okay, first step. Let us display an image from the test set to get familiar."
   ]
  },
  {
   "cell_type": "code",
   "execution_count": 55,
   "metadata": {
    "collapsed": false
   },
   "outputs": [
    {
     "data": {
      "text/plain": [
       "horse\t\n"
      ]
     },
     "execution_count": 55,
     "metadata": {},
     "output_type": "execute_result"
    },
    {
     "data": {
      "image/png": "[encoded data removed]",
      "text/plain": [
       "Console does not support images"
      ]
     },
     "metadata": {
      "image/png": {
       "height": 32,
       "width": 32
      }
     },
     "output_type": "display_data"
    }
   ],
   "source": [
    "print(classes[testset.label[100]])\n",
    "itorch.image(testset.data[100])"
   ]
  },
  {
   "cell_type": "code",
   "execution_count": 56,
   "metadata": {
    "collapsed": false
   },
   "outputs": [
    {
     "data": {
      "text/plain": [
       "0.59066009532189\t1.0665356205025\t\n"
      ]
     },
     "execution_count": 56,
     "metadata": {},
     "output_type": "execute_result"
    }
   ],
   "source": [
    "-- for fun, print the mean and standard-deviation of example-100\n",
    "horse = testset.data[100]\n",
    "print(horse:mean(), horse:std())"
   ]
  },
  {
   "cell_type": "markdown",
   "metadata": {},
   "source": [
    "Okay, now let us see what the neural network thinks these examples above are:"
   ]
  },
  {
   "cell_type": "code",
   "execution_count": 57,
   "metadata": {
    "collapsed": false
   },
   "outputs": [
    {
     "data": {
      "text/plain": [
       "horse\t\n"
      ]
     },
     "execution_count": 57,
     "metadata": {},
     "output_type": "execute_result"
    },
    {
     "data": {
      "image/png": "[encoded data removed]",
      "text/plain": [
       "Console does not support images"
      ]
     },
     "metadata": {
      "image/png": {
       "height": 32,
       "width": 32
      }
     },
     "output_type": "display_data"
    }
   ],
   "source": [
    "print(classes[testset.label[100]])\n",
    "itorch.image(testset.data[100])\n",
    "predicted = predict(net, testset.data[100])"
   ]
  },
  {
   "cell_type": "code",
   "execution_count": 58,
   "metadata": {
    "collapsed": false
   },
   "outputs": [
    {
     "data": {
      "text/plain": [
       " 0.0639\n",
       " 0.1371\n",
       " 0.0797\n",
       " 0.1163\n",
       " 0.0583\n",
       " 0.0640\n",
       " 0.0539\n",
       " 0.1285\n",
       " 0.0381\n",
       " 0.2603\n",
       "[torch.DoubleTensor of size 10]\n",
       "\n"
      ]
     },
     "execution_count": 58,
     "metadata": {},
     "output_type": "execute_result"
    }
   ],
   "source": [
    "-- the output of the network is Log-Probabilities. To convert them to probabilities, you have to take e^x \n",
    "predictedProb = torch.exp(predicted)\n",
    "print(predictedProb)"
   ]
  },
  {
   "cell_type": "markdown",
   "metadata": {},
   "source": [
    "You can see the network predictions. The network assigned a probability to each classes, given the image.\n",
    "\n",
    "To make it clearer, let us tag each probability with it's class-name:"
   ]
  },
  {
   "cell_type": "code",
   "execution_count": 62,
   "metadata": {
    "collapsed": false
   },
   "outputs": [
    {
     "data": {
      "text/plain": [
       "airplane\t0.06392711539247\t\n",
       "automobile\t0.13705859940128\t\n",
       "bird\t0.079686553651511\t\n",
       "cat\t0.11630412198854\t\n",
       "deer\t0.05825403621093\t\n",
       "dog\t0.063960784190061\t\n",
       "frog\t0.053941142065575\t\n",
       "horse\t0.12847209715464\t\n",
       "ship\t0.038094532697737\t\n",
       "truck\t0.26030101724725\t\n"
      ]
     },
     "execution_count": 62,
     "metadata": {},
     "output_type": "execute_result"
    }
   ],
   "source": [
    "for i=1,predicted:size(1) do\n",
    "    print(classes[i], predictedProb[i])\n",
    "end"
   ]
  },
  {
   "cell_type": "markdown",
   "metadata": {},
   "source": [
    "That doesn't look so good. On my system, this predicts that the horse is a truck. A horsetruck. But how are we doing on the test set as a whole?"
   ]
  },
  {
   "cell_type": "code",
   "execution_count": 63,
   "metadata": {
    "collapsed": true
   },
   "outputs": [],
   "source": [
    "correct = 0\n",
    "confusionMatrix:zero()\n",
    "for i=1,testset.data:size(1) do\n",
    "    local groundtruth = testset.label[i]\n",
    "    local prediction = predict(net,testset.data[i])\n",
    "    confusionMatrix:add(prediction, testset.label[i])\n",
    "end"
   ]
  },
  {
   "cell_type": "code",
   "execution_count": 64,
   "metadata": {
    "collapsed": false
   },
   "outputs": [
    {
     "data": {
      "text/plain": [
       "ConfusionMatrix:\n",
       "[[     473     102      37      23      15      23      27      57     189      54]   47.300% \t[class: airplane]\n",
       " [      41     562      16      48       8      27      52      30     101     115]   56.200% \t[class: automobile]\n",
       " [     112      66     262      78      82      50     210      87      24      29]   26.200% \t[class: bird]\n",
       " [      32      98     109     223      14     158     176     105      25      60]   22.300% \t[class: cat]\n",
       " [      50      61     142      67     156      45     317     119      24      19]   15.600% \t[class: deer]\n",
       " [      22      64     129     169      23     264     150     120      34      25]   26.400% \t[class: dog]\n",
       " [      10      67      71      84      39      40     589      44       2      54]   58.900% \t[class: frog]\n",
       " [      34      68      93      92      41      67      91     404      37      73]   40.400% \t[class: horse]\n",
       " [     199     152       8      23       6      39      11      26     416     120]   41.600% \t[class: ship]\n",
       " [      42     310      15      39       7      16      55      26     135     355]]  35.500% \t[class: truck]\n",
       " + average row correct: 37.03999966383% \n",
       " + average rowUcol correct (VOC measure): 22.213320285082% \n",
       " + global correct: 37.04%\n",
       "{\n",
       "  _mat_flat : LongTensor - size: 100\n",
       "  unionvalids : FloatTensor - size: 10\n",
       "  mat : LongTensor - size: 10x10\n",
       "  _max : FloatTensor - size: 1\n",
       "  averageUnionValid : 0.22213320285082\n",
       "  valids : FloatTensor - size: 10\n",
       "  totalValid : 0.3704\n",
       "  _targ_idx : LongTensor - empty\n",
       "  _pred_idx : LongTensor - size: 1\n",
       "  _prediction : FloatTensor - size: 10\n",
       "  averageValid : 0.3703999966383\n",
       "  _target : FloatTensor - empty\n",
       "  nclasses : 10\n",
       "  classes : \n",
       "    {\n",
       "      1 : airplane\n",
       "      2 : automobile\n",
       "      3 : bird\n",
       "      4 : cat\n",
       "      5 : deer\n",
       "      6 : dog\n",
       "      7 : frog\n",
       "      8 : horse\n",
       "      9 : ship\n",
       "      10 : truck\n",
       "    }\n",
       "}\n"
      ]
     },
     "execution_count": 64,
     "metadata": {},
     "output_type": "execute_result"
    }
   ],
   "source": [
    "print(confusionMatrix)"
   ]
  },
  {
   "cell_type": "markdown",
   "metadata": {},
   "source": [
    "### Extras"
   ]
  },
  {
   "cell_type": "markdown",
   "metadata": {},
   "source": [
    "__Try getting the network on the GPU__\n",
    "  \n",
    "I'll list the ingredients for getting a network onto the GPU below."
   ]
  },
  {
   "cell_type": "markdown",
   "metadata": {},
   "source": [
    "First, require 'cutorch' and 'cunn'"
   ]
  },
  {
   "cell_type": "code",
   "execution_count": null,
   "metadata": {
    "collapsed": false
   },
   "outputs": [],
   "source": [
    "require 'cutorch'\n",
    "require 'cunn'"
   ]
  },
  {
   "cell_type": "markdown",
   "metadata": {},
   "source": [
    "Then, you just have to cast your network to the GPU type"
   ]
  },
  {
   "cell_type": "code",
   "execution_count": null,
   "metadata": {
    "collapsed": false
   },
   "outputs": [],
   "source": [
    "net = net:cuda()"
   ]
  },
  {
   "cell_type": "markdown",
   "metadata": {},
   "source": [
    "Also, transfer the criterion to GPU:"
   ]
  },
  {
   "cell_type": "code",
   "execution_count": null,
   "metadata": {
    "collapsed": false
   },
   "outputs": [],
   "source": [
    "criterion = criterion:cuda()"
   ]
  },
  {
   "cell_type": "markdown",
   "metadata": {},
   "source": [
    "Ok, now the data:"
   ]
  },
  {
   "cell_type": "code",
   "execution_count": null,
   "metadata": {
    "collapsed": false
   },
   "outputs": [],
   "source": [
    "trainset.data = trainset.data:cuda()"
   ]
  },
  {
   "cell_type": "markdown",
   "metadata": {},
   "source": [
    "Okay, let's train on GPU :) #sosimple"
   ]
  },
  {
   "cell_type": "code",
   "execution_count": null,
   "metadata": {
    "collapsed": false
   },
   "outputs": [],
   "source": [
    "-- Copy the training code from above"
   ]
  },
  {
   "cell_type": "markdown",
   "metadata": {},
   "source": [
    "Why dont I notice MASSIVE speedup compared to CPU?  \n",
    "Because your network is quite small.  \n",
    "  \n",
    "*Exercise:* Try increasing the size of your network (argument 1 and 2 of nn.SpatialConvolution(...), see what kind of speedup you get."
   ]
  },
  {
   "cell_type": "markdown",
   "metadata": {},
   "source": [
    "__Logging training error__  \n",
    "  \n",
    "You can try plotting your training error every epoch to visually monitor learning progress.  \n",
    "The code below updates a graph every 100 milliseconds. You can try adapting it to your training loop to show\n",
    "the training error."
   ]
  },
  {
   "cell_type": "code",
   "execution_count": null,
   "metadata": {
    "collapsed": true
   },
   "outputs": [],
   "source": [
    "-- To get the average class accuracy from a ConfusionMatrix class, you can try\n",
    "-- confusionMatrix:updateValids()\n",
    "-- print(confusionMatrix.averageValid)\n",
    "\n",
    "Plot = require 'itorch.Plot'\n",
    "\n",
    "pts = {}\n",
    "err = {}\n",
    "\n",
    "p = nil\n",
    "for i=1,30 do\n",
    "    pts[#pts+1] = i\n",
    "    err[#err+1] = 1.0/i\n",
    "    if not p then\n",
    "        p = Plot():line(pts,err):title('Training Error'):redraw()\n",
    "    else\n",
    "        p:line(pts,err):redraw()\n",
    "    end\n",
    "    sys.execute(\"sleep 0.1\")\n",
    "end"
   ]
  },
  {
   "cell_type": "markdown",
   "metadata": {},
   "source": [
    "__Use autograd to train the network from above__  \n",
    "  \n",
    "  \n",
    "Autograd lets you write arbitrary torch functions, and automatically get the derivative of those functions. Here's a small example:  "
   ]
  },
  {
   "cell_type": "code",
   "execution_count": 161,
   "metadata": {
    "collapsed": false
   },
   "outputs": [
    {
     "data": {
      "text/plain": [
       "Value: 1.7917594692281\t\n",
       "\n",
       "Value: 1.7917594692281\t\n",
       "Gradient:0.5\t\n"
      ]
     },
     "execution_count": 161,
     "metadata": {},
     "output_type": "execute_result"
    }
   ],
   "source": [
    "-- Some crazy torch function, with if statements (we could have while and for loops, too)\n",
    "function f(a,b)\n",
    "    c = a * b\n",
    "    if b > 0 then\n",
    "        d = torch.log(c)\n",
    "    else\n",
    "        d = torch.sin(c)\n",
    "    end\n",
    "    return d\n",
    "end\n",
    "print(\"Value: \" .. f(2,3))\n",
    "\n",
    "-- Calling grad() on a function returns a NEW function, that calculates the value as well as the gradient\n",
    "-- of the original function (gradient w.r.t. first argument only, but the argument can be a table of tensors)\n",
    "grad = require 'autograd'\n",
    "g = grad(f)\n",
    "\n",
    "gradient, value = g(2,3)\n",
    "print(\"\\nValue: \"..value)\n",
    "print(\"Gradient:\"..gradient)"
   ]
  },
  {
   "cell_type": "markdown",
   "metadata": {},
   "source": [
    "In autograd, you have to write your code in a procedural style, and be careful not to overwrite the internals of any variables.\n",
    "So, instead of doing\n",
    "\n",
    "```lua\n",
    "a = torch.randn(3,3)\n",
    "a:exp() -- now the content of a has been exponentiated. doesn't work in autograd, though!\n",
    "```\n",
    "\n",
    "do\n",
    "\n",
    "```lua\n",
    "a = torch.randn(3,3)\n",
    "a = torch.exp(a)\n",
    "```\n",
    "\n",
    "however, this is generally a bad idea in autograd\n",
    "```lua\n",
    "a = torch.randn(3,3)\n",
    "-- can't overwrite indices! because when doing backprop, \n",
    "-- we've lost the original content of a[i]\n",
    "a[1] = torch.exp(a[1]) \n",
    "```"
   ]
  },
  {
   "cell_type": "markdown",
   "metadata": {},
   "source": [
    "So using torch functions like `torch.exp`, `torch.mm`, `torch.log` and ops like `+,/,-,*` are no problem in autograd. But there's been an enormous amount of work put into building really efficient `NN` modules. Fortunately, we can use those in autograd as well, but we have to first convert them from objects (which are strung together using containers, as we saw above), into functions. Here's how:"
   ]
  },
  {
   "cell_type": "code",
   "execution_count": 162,
   "metadata": {
    "collapsed": true
   },
   "outputs": [],
   "source": [
    "predict_cnn, params_cnn = grad.functionalize(net)"
   ]
  },
  {
   "cell_type": "markdown",
   "metadata": {},
   "source": [
    "What just happened? We created a function which takes in the neural net parameters,  \n",
    "as well as input data, and calls the underlying `nn.Sequential` model and returns the results. Under the hood, we'll also handle backpropagation if this function is used, and we need gradients through it."
   ]
  },
  {
   "cell_type": "code",
   "execution_count": 163,
   "metadata": {
    "collapsed": false
   },
   "outputs": [
    {
     "data": {
      "text/plain": [
       "-6.5287\n",
       "-3.9768\n",
       "-2.8086\n",
       "-1.8664\n",
       "-2.2169\n",
       "-2.2016\n",
       "-0.7777\n",
       "-2.6404\n",
       "-5.9565\n",
       "-4.4337\n",
       "[torch.DoubleTensor of size 10]\n",
       "\n"
      ]
     },
     "execution_count": 163,
     "metadata": {},
     "output_type": "execute_result"
    }
   ],
   "source": [
    "predict_cnn(params_cnn, trainset.data[1])"
   ]
  },
  {
   "cell_type": "markdown",
   "metadata": {},
   "source": [
    "So, we can construct the trainable model that we had above as so:"
   ]
  },
  {
   "cell_type": "code",
   "execution_count": 203,
   "metadata": {
    "collapsed": true
   },
   "outputs": [],
   "source": [
    "fCriterion = grad.functionalize(criterion) -- we can functionalize criterions, but they don't have parameters\n",
    "\n",
    "function f(params, input, target)\n",
    "   prediction = predict_cnn(params, input)\n",
    "   loss = fCriterion(prediction, target)\n",
    "   return loss, prediction\n",
    "end\n",
    "\n",
    "-- Autograd will give you a function that calculates gradients\n",
    "df = grad(f)"
   ]
  },
  {
   "cell_type": "code",
   "execution_count": 204,
   "metadata": {
    "collapsed": false
   },
   "outputs": [
    {
     "data": {
      "text/html": [
       "<script type=\"text/javascript\">\n",
       "$(function() {\n",
       "    if (typeof (window._bokeh_onload_callbacks) === \"undefined\"){\n",
       "  window._bokeh_onload_callbacks = [];\n",
       "    }\n",
       "    function load_lib(url, callback){\n",
       "  window._bokeh_onload_callbacks.push(callback);\n",
       "  if (window._bokeh_is_loading){\n",
       "      console.log(\"Bokeh: BokehJS is being loaded, scheduling callback at\", new Date());\n",
       "      return null;\n",
       "  }\n",
       "  console.log(\"Bokeh: BokehJS not loaded, scheduling load and callback at\", new Date());\n",
       "  window._bokeh_is_loading = true;\n",
       "  var s = document.createElement('script');\n",
       "  s.src = url;\n",
       "  s.async = true;\n",
       "  s.onreadystatechange = s.onload = function(){\n",
       "      Bokeh.embed.inject_css(\"https://cdn.pydata.org/bokeh-0.7.0.min.css\");\n",
       "      window._bokeh_onload_callbacks.forEach(function(callback){callback()});\n",
       "  };\n",
       "  s.onerror = function(){\n",
       "      console.warn(\"failed to load library \" + url);\n",
       "  };\n",
       "  document.getElementsByTagName(\"head\")[0].appendChild(s);\n",
       "    }\n",
       "\n",
       "    bokehjs_url = \"https://cdn.pydata.org/bokeh-0.7.0.min.js\"\n",
       "\n",
       "    var elt = document.getElementById(\"14cab9cf-81a0-4088-c0e7-d2a9e38b5a71\");\n",
       "    if(elt==null) {\n",
       "  console.log(\"Bokeh: ERROR: autoload.js configured with elementid '14cab9cf-81a0-4088-c0e7-d2a9e38b5a71'\"\n",
       "        + \"but no matching script tag was found. \")\n",
       "  return false;\n",
       "    }\n",
       "\n",
       "    if(typeof(Bokeh) !== \"undefined\") {\n",
       "  console.log(\"Bokeh: BokehJS loaded, going straight to plotting\");\n",
       "  var modelid = \"c99fd3b5-4e9e-4c5e-cc8a-79856bf688b9\";\n",
       "  var modeltype = \"Plot\";\n",
       "  var all_models = [{\"type\":\"ColumnDataSource\",\"attributes\":{\"id\":\"23f1b0fe-e68b-4fcb-cf5c-81b2ec58b069\",\"data\":{\"y\":[8.0118267096105e-33,1.0124162557542e-31,4.1995606858233e-31,1,5.7600181224828e-24,1.6655009270598e-18,1.9233554276914e-70,2.4667827280089e-20,3.1379134326996e-41,1.0443271796662e-34],\"x\":[1,2,3,4,5,6,7,8,9,10]},\"doc\":null,\"column_names\":[\"x\",\"y\"],\"discrete_ranges\":{},\"cont_ranges\":{},\"selected\":[],\"tags\":[]},\"id\":\"23f1b0fe-e68b-4fcb-cf5c-81b2ec58b069\"},{\"type\":\"Line\",\"attributes\":{\"id\":\"9bebaca3-83b0-480d-c827-76697e76d71d\",\"x\":{\"units\":\"data\",\"field\":\"x\"},\"size\":{\"units\":\"screen\",\"value\":10},\"fill_alpha\":{\"units\":\"data\",\"value\":0.2},\"line_color\":{\"value\":\"red\"},\"line_alpha\":{\"units\":\"data\",\"value\":1},\"doc\":null,\"fill_color\":{\"value\":\"red\"},\"y\":{\"units\":\"data\",\"field\":\"y\"},\"tags\":[]},\"id\":\"9bebaca3-83b0-480d-c827-76697e76d71d\"},{\"type\":\"Line\",\"attributes\":{\"id\":\"06f3a587-feb0-4ac6-ca15-a4c84fc6c2a8\",\"x\":{\"units\":\"data\",\"field\":\"x\"},\"size\":{\"units\":\"screen\",\"value\":10},\"fill_alpha\":{\"units\":\"data\",\"value\":0.2},\"line_color\":{\"value\":\"red\"},\"line_alpha\":{\"units\":\"data\",\"value\":1},\"doc\":null,\"fill_color\":{\"value\":\"red\"},\"y\":{\"units\":\"data\",\"field\":\"y\"},\"tags\":[]},\"id\":\"06f3a587-feb0-4ac6-ca15-a4c84fc6c2a8\"},{\"type\":\"GlyphRenderer\",\"attributes\":{\"id\":\"886957b4-14e5-4b77-cbae-5e2a250b51a7\",\"server_data_source\":null,\"data_source\":{\"type\":\"ColumnDataSource\",\"id\":\"23f1b0fe-e68b-4fcb-cf5c-81b2ec58b069\"},\"glyph\":{\"type\":\"Line\",\"id\":\"9bebaca3-83b0-480d-c827-76697e76d71d\"},\"doc\":null,\"nonselection_glyph\":{\"type\":\"Line\",\"id\":\"06f3a587-feb0-4ac6-ca15-a4c84fc6c2a8\"},\"selection_glyph\":null,\"name\":null,\"tags\":[]},\"id\":\"886957b4-14e5-4b77-cbae-5e2a250b51a7\"},{\"type\":\"DataRange1d\",\"attributes\":{\"id\":\"f65f45e9-40aa-4c32-cc90-9ff5280d4442\",\"sources\":[{\"source\":{\"id\":\"23f1b0fe-e68b-4fcb-cf5c-81b2ec58b069\",\"type\":\"ColumnDataSource\"},\"columns\":[\"x\"]}],\"doc\":null,\"tags\":[]},\"id\":\"f65f45e9-40aa-4c32-cc90-9ff5280d4442\"},{\"type\":\"DataRange1d\",\"attributes\":{\"id\":\"085f221b-3b47-4e1b-ceb1-2f1e9f8e7fc9\",\"sources\":[{\"source\":{\"id\":\"23f1b0fe-e68b-4fcb-cf5c-81b2ec58b069\",\"type\":\"ColumnDataSource\"},\"columns\":[\"y\"]}],\"doc\":null,\"tags\":[]},\"id\":\"085f221b-3b47-4e1b-ceb1-2f1e9f8e7fc9\"},{\"type\":\"ToolEvents\",\"attributes\":{\"id\":\"532117d5-d79c-4796-c7bf-3da17b27e1c6\",\"geometries\":[],\"doc\":null,\"tags\":[]},\"id\":\"532117d5-d79c-4796-c7bf-3da17b27e1c6\"},{\"type\":\"BasicTickFormatter\",\"attributes\":{\"id\":\"71a53f55-093d-441c-c42b-5edad99a42c5\",\"doc\":null,\"tags\":[]},\"id\":\"71a53f55-093d-441c-c42b-5edad99a42c5\"},{\"type\":\"BasicTicker\",\"attributes\":{\"id\":\"4f0c7c69-1880-4243-c2e5-6fab26628948\",\"num_minor_ticks\":5,\"doc\":null,\"tags\":[]},\"id\":\"4f0c7c69-1880-4243-c2e5-6fab26628948\"},{\"type\":\"LinearAxis\",\"attributes\":{\"id\":\"a75dc341-fab7-4276-c260-4a3de854ab71\",\"doc\":null,\"ticker\":{\"type\":\"BasicTicker\",\"id\":\"4f0c7c69-1880-4243-c2e5-6fab26628948\"},\"plot\":{\"type\":\"Plot\",\"id\":\"c99fd3b5-4e9e-4c5e-cc8a-79856bf688b9\",\"subtype\":\"Figure\"},\"axis_label\":\"Class ID\",\"formatter\":{\"type\":\"BasicTickFormatter\",\"id\":\"71a53f55-093d-441c-c42b-5edad99a42c5\"},\"tags\":[]},\"id\":\"a75dc341-fab7-4276-c260-4a3de854ab71\"},{\"type\":\"Grid\",\"attributes\":{\"id\":\"213105d4-b328-4ff7-cf8f-fa951d414b63\",\"doc\":null,\"plot\":{\"type\":\"Plot\",\"id\":\"c99fd3b5-4e9e-4c5e-cc8a-79856bf688b9\",\"subtype\":\"Figure\"},\"ticker\":{\"type\":\"BasicTicker\",\"id\":\"4f0c7c69-1880-4243-c2e5-6fab26628948\"},\"dimension\":0,\"tags\":[]},\"id\":\"213105d4-b328-4ff7-cf8f-fa951d414b63\"},{\"type\":\"BasicTickFormatter\",\"attributes\":{\"id\":\"4e562c32-1b5d-4f86-cf7c-34dcb68aa093\",\"doc\":null,\"tags\":[]},\"id\":\"4e562c32-1b5d-4f86-cf7c-34dcb68aa093\"},{\"type\":\"BasicTicker\",\"attributes\":{\"id\":\"9b071176-7d1d-4f9f-cf22-f0f60a7fe78e\",\"num_minor_ticks\":5,\"doc\":null,\"tags\":[]},\"id\":\"9b071176-7d1d-4f9f-cf22-f0f60a7fe78e\"},{\"type\":\"LinearAxis\",\"attributes\":{\"id\":\"1e6375f2-879a-4fbc-cf32-db85c98b2ea3\",\"doc\":null,\"ticker\":{\"type\":\"BasicTicker\",\"id\":\"9b071176-7d1d-4f9f-cf22-f0f60a7fe78e\"},\"plot\":{\"type\":\"Plot\",\"id\":\"c99fd3b5-4e9e-4c5e-cc8a-79856bf688b9\",\"subtype\":\"Figure\"},\"axis_label\":\"Class probabilities (0-1)\",\"formatter\":{\"type\":\"BasicTickFormatter\",\"id\":\"4e562c32-1b5d-4f86-cf7c-34dcb68aa093\"},\"tags\":[]},\"id\":\"1e6375f2-879a-4fbc-cf32-db85c98b2ea3\"},{\"type\":\"Grid\",\"attributes\":{\"id\":\"2cc9952b-efa3-4ade-ca98-de42fd7d0c83\",\"doc\":null,\"plot\":{\"type\":\"Plot\",\"id\":\"c99fd3b5-4e9e-4c5e-cc8a-79856bf688b9\",\"subtype\":\"Figure\"},\"ticker\":{\"type\":\"BasicTicker\",\"id\":\"9b071176-7d1d-4f9f-cf22-f0f60a7fe78e\"},\"dimension\":1,\"tags\":[]},\"id\":\"2cc9952b-efa3-4ade-ca98-de42fd7d0c83\"},{\"type\":\"PanTool\",\"attributes\":{\"id\":\"22df6bfa-d1c6-4952-c948-115b1157bfbb\",\"doc\":null,\"plot\":{\"type\":\"Plot\",\"id\":\"c99fd3b5-4e9e-4c5e-cc8a-79856bf688b9\",\"subtype\":\"Figure\"},\"dimensions\":[\"width\",\"height\"],\"tags\":[]},\"id\":\"22df6bfa-d1c6-4952-c948-115b1157bfbb\"},{\"type\":\"WheelZoomTool\",\"attributes\":{\"id\":\"7a8c4751-aca8-4e7d-ce2f-40887356bef1\",\"doc\":null,\"plot\":{\"type\":\"Plot\",\"id\":\"c99fd3b5-4e9e-4c5e-cc8a-79856bf688b9\",\"subtype\":\"Figure\"},\"dimensions\":[\"width\",\"height\"],\"tags\":[]},\"id\":\"7a8c4751-aca8-4e7d-ce2f-40887356bef1\"},{\"type\":\"BoxZoomTool\",\"attributes\":{\"id\":\"785470dc-e30a-4fcc-cf61-746ac8ae9d1d\",\"plot\":{\"type\":\"Plot\",\"id\":\"c99fd3b5-4e9e-4c5e-cc8a-79856bf688b9\",\"subtype\":\"Figure\"},\"doc\":null,\"tags\":[]},\"id\":\"785470dc-e30a-4fcc-cf61-746ac8ae9d1d\"},{\"type\":\"PreviewSaveTool\",\"attributes\":{\"id\":\"9f0c260f-857e-4fc2-cfe2-ca7c27d764b0\",\"plot\":{\"type\":\"Plot\",\"id\":\"c99fd3b5-4e9e-4c5e-cc8a-79856bf688b9\",\"subtype\":\"Figure\"},\"doc\":null,\"tags\":[]},\"id\":\"9f0c260f-857e-4fc2-cfe2-ca7c27d764b0\"},{\"type\":\"ResizeTool\",\"attributes\":{\"id\":\"3ea77fa0-e66f-421d-c2c8-5112bd04a19f\",\"plot\":{\"type\":\"Plot\",\"id\":\"c99fd3b5-4e9e-4c5e-cc8a-79856bf688b9\",\"subtype\":\"Figure\"},\"doc\":null,\"tags\":[]},\"id\":\"3ea77fa0-e66f-421d-c2c8-5112bd04a19f\"},{\"type\":\"ResetTool\",\"attributes\":{\"id\":\"9cfdc23e-5fa3-454f-c5d0-aea22cc33e50\",\"plot\":{\"type\":\"Plot\",\"id\":\"c99fd3b5-4e9e-4c5e-cc8a-79856bf688b9\",\"subtype\":\"Figure\"},\"doc\":null,\"tags\":[]},\"id\":\"9cfdc23e-5fa3-454f-c5d0-aea22cc33e50\"},{\"type\":\"Plot\",\"attributes\":{\"id\":\"c99fd3b5-4e9e-4c5e-cc8a-79856bf688b9\",\"tools\":[{\"type\":\"PanTool\",\"id\":\"22df6bfa-d1c6-4952-c948-115b1157bfbb\"},{\"type\":\"WheelZoomTool\",\"id\":\"7a8c4751-aca8-4e7d-ce2f-40887356bef1\"},{\"type\":\"BoxZoomTool\",\"id\":\"785470dc-e30a-4fcc-cf61-746ac8ae9d1d\"},{\"type\":\"PreviewSaveTool\",\"id\":\"9f0c260f-857e-4fc2-cfe2-ca7c27d764b0\"},{\"type\":\"ResizeTool\",\"id\":\"3ea77fa0-e66f-421d-c2c8-5112bd04a19f\"},{\"type\":\"ResetTool\",\"id\":\"9cfdc23e-5fa3-454f-c5d0-aea22cc33e50\"}],\"tool_events\":{\"type\":\"ToolEvents\",\"id\":\"532117d5-d79c-4796-c7bf-3da17b27e1c6\"},\"left\":[{\"type\":\"LinearAxis\",\"id\":\"1e6375f2-879a-4fbc-cf32-db85c98b2ea3\"}],\"extra_y_ranges\":{},\"renderers\":[{\"type\":\"GlyphRenderer\",\"id\":\"886957b4-14e5-4b77-cbae-5e2a250b51a7\"},{\"type\":\"LinearAxis\",\"id\":\"a75dc341-fab7-4276-c260-4a3de854ab71\"},{\"type\":\"Grid\",\"id\":\"213105d4-b328-4ff7-cf8f-fa951d414b63\"},{\"type\":\"LinearAxis\",\"id\":\"1e6375f2-879a-4fbc-cf32-db85c98b2ea3\"},{\"type\":\"Grid\",\"id\":\"2cc9952b-efa3-4ade-ca98-de42fd7d0c83\"}],\"title\":\"Class probabilities of a single sample (untrained)\",\"below\":[{\"type\":\"LinearAxis\",\"id\":\"a75dc341-fab7-4276-c260-4a3de854ab71\"}],\"above\":[],\"extra_x_ranges\":{},\"right\":[],\"x_range\":{\"type\":\"DataRange1d\",\"id\":\"f65f45e9-40aa-4c32-cc90-9ff5280d4442\"},\"doc\":null,\"y_range\":{\"type\":\"DataRange1d\",\"id\":\"085f221b-3b47-4e1b-ceb1-2f1e9f8e7fc9\"},\"tags\":[]},\"id\":\"c99fd3b5-4e9e-4c5e-cc8a-79856bf688b9\"}];\n",
       "  Bokeh.load_models(all_models);\n",
       "  var model = Bokeh.Collections(modeltype).get(modelid);\n",
       "  $(\"#14cab9cf-81a0-4088-c0e7-d2a9e38b5a71\").html(''); // clear any previous plot in window_id\n",
       "  var view = new model.default_view({model: model, el: \"#14cab9cf-81a0-4088-c0e7-d2a9e38b5a71\"});\n",
       "    } else {\n",
       "  load_lib(bokehjs_url, function() {\n",
       "      console.log(\"Bokeh: BokehJS plotting callback run at\", new Date())\n",
       "      var modelid = \"c99fd3b5-4e9e-4c5e-cc8a-79856bf688b9\";\n",
       "      var modeltype = \"Plot\";\n",
       "      var all_models = [{\"type\":\"ColumnDataSource\",\"attributes\":{\"id\":\"23f1b0fe-e68b-4fcb-cf5c-81b2ec58b069\",\"data\":{\"y\":[8.0118267096105e-33,1.0124162557542e-31,4.1995606858233e-31,1,5.7600181224828e-24,1.6655009270598e-18,1.9233554276914e-70,2.4667827280089e-20,3.1379134326996e-41,1.0443271796662e-34],\"x\":[1,2,3,4,5,6,7,8,9,10]},\"doc\":null,\"column_names\":[\"x\",\"y\"],\"discrete_ranges\":{},\"cont_ranges\":{},\"selected\":[],\"tags\":[]},\"id\":\"23f1b0fe-e68b-4fcb-cf5c-81b2ec58b069\"},{\"type\":\"Line\",\"attributes\":{\"id\":\"9bebaca3-83b0-480d-c827-76697e76d71d\",\"x\":{\"units\":\"data\",\"field\":\"x\"},\"size\":{\"units\":\"screen\",\"value\":10},\"fill_alpha\":{\"units\":\"data\",\"value\":0.2},\"line_color\":{\"value\":\"red\"},\"line_alpha\":{\"units\":\"data\",\"value\":1},\"doc\":null,\"fill_color\":{\"value\":\"red\"},\"y\":{\"units\":\"data\",\"field\":\"y\"},\"tags\":[]},\"id\":\"9bebaca3-83b0-480d-c827-76697e76d71d\"},{\"type\":\"Line\",\"attributes\":{\"id\":\"06f3a587-feb0-4ac6-ca15-a4c84fc6c2a8\",\"x\":{\"units\":\"data\",\"field\":\"x\"},\"size\":{\"units\":\"screen\",\"value\":10},\"fill_alpha\":{\"units\":\"data\",\"value\":0.2},\"line_color\":{\"value\":\"red\"},\"line_alpha\":{\"units\":\"data\",\"value\":1},\"doc\":null,\"fill_color\":{\"value\":\"red\"},\"y\":{\"units\":\"data\",\"field\":\"y\"},\"tags\":[]},\"id\":\"06f3a587-feb0-4ac6-ca15-a4c84fc6c2a8\"},{\"type\":\"GlyphRenderer\",\"attributes\":{\"id\":\"886957b4-14e5-4b77-cbae-5e2a250b51a7\",\"server_data_source\":null,\"data_source\":{\"type\":\"ColumnDataSource\",\"id\":\"23f1b0fe-e68b-4fcb-cf5c-81b2ec58b069\"},\"glyph\":{\"type\":\"Line\",\"id\":\"9bebaca3-83b0-480d-c827-76697e76d71d\"},\"doc\":null,\"nonselection_glyph\":{\"type\":\"Line\",\"id\":\"06f3a587-feb0-4ac6-ca15-a4c84fc6c2a8\"},\"selection_glyph\":null,\"name\":null,\"tags\":[]},\"id\":\"886957b4-14e5-4b77-cbae-5e2a250b51a7\"},{\"type\":\"DataRange1d\",\"attributes\":{\"id\":\"f65f45e9-40aa-4c32-cc90-9ff5280d4442\",\"sources\":[{\"source\":{\"id\":\"23f1b0fe-e68b-4fcb-cf5c-81b2ec58b069\",\"type\":\"ColumnDataSource\"},\"columns\":[\"x\"]}],\"doc\":null,\"tags\":[]},\"id\":\"f65f45e9-40aa-4c32-cc90-9ff5280d4442\"},{\"type\":\"DataRange1d\",\"attributes\":{\"id\":\"085f221b-3b47-4e1b-ceb1-2f1e9f8e7fc9\",\"sources\":[{\"source\":{\"id\":\"23f1b0fe-e68b-4fcb-cf5c-81b2ec58b069\",\"type\":\"ColumnDataSource\"},\"columns\":[\"y\"]}],\"doc\":null,\"tags\":[]},\"id\":\"085f221b-3b47-4e1b-ceb1-2f1e9f8e7fc9\"},{\"type\":\"ToolEvents\",\"attributes\":{\"id\":\"532117d5-d79c-4796-c7bf-3da17b27e1c6\",\"geometries\":[],\"doc\":null,\"tags\":[]},\"id\":\"532117d5-d79c-4796-c7bf-3da17b27e1c6\"},{\"type\":\"BasicTickFormatter\",\"attributes\":{\"id\":\"71a53f55-093d-441c-c42b-5edad99a42c5\",\"doc\":null,\"tags\":[]},\"id\":\"71a53f55-093d-441c-c42b-5edad99a42c5\"},{\"type\":\"BasicTicker\",\"attributes\":{\"id\":\"4f0c7c69-1880-4243-c2e5-6fab26628948\",\"num_minor_ticks\":5,\"doc\":null,\"tags\":[]},\"id\":\"4f0c7c69-1880-4243-c2e5-6fab26628948\"},{\"type\":\"LinearAxis\",\"attributes\":{\"id\":\"a75dc341-fab7-4276-c260-4a3de854ab71\",\"doc\":null,\"ticker\":{\"type\":\"BasicTicker\",\"id\":\"4f0c7c69-1880-4243-c2e5-6fab26628948\"},\"plot\":{\"type\":\"Plot\",\"id\":\"c99fd3b5-4e9e-4c5e-cc8a-79856bf688b9\",\"subtype\":\"Figure\"},\"axis_label\":\"Class ID\",\"formatter\":{\"type\":\"BasicTickFormatter\",\"id\":\"71a53f55-093d-441c-c42b-5edad99a42c5\"},\"tags\":[]},\"id\":\"a75dc341-fab7-4276-c260-4a3de854ab71\"},{\"type\":\"Grid\",\"attributes\":{\"id\":\"213105d4-b328-4ff7-cf8f-fa951d414b63\",\"doc\":null,\"plot\":{\"type\":\"Plot\",\"id\":\"c99fd3b5-4e9e-4c5e-cc8a-79856bf688b9\",\"subtype\":\"Figure\"},\"ticker\":{\"type\":\"BasicTicker\",\"id\":\"4f0c7c69-1880-4243-c2e5-6fab26628948\"},\"dimension\":0,\"tags\":[]},\"id\":\"213105d4-b328-4ff7-cf8f-fa951d414b63\"},{\"type\":\"BasicTickFormatter\",\"attributes\":{\"id\":\"4e562c32-1b5d-4f86-cf7c-34dcb68aa093\",\"doc\":null,\"tags\":[]},\"id\":\"4e562c32-1b5d-4f86-cf7c-34dcb68aa093\"},{\"type\":\"BasicTicker\",\"attributes\":{\"id\":\"9b071176-7d1d-4f9f-cf22-f0f60a7fe78e\",\"num_minor_ticks\":5,\"doc\":null,\"tags\":[]},\"id\":\"9b071176-7d1d-4f9f-cf22-f0f60a7fe78e\"},{\"type\":\"LinearAxis\",\"attributes\":{\"id\":\"1e6375f2-879a-4fbc-cf32-db85c98b2ea3\",\"doc\":null,\"ticker\":{\"type\":\"BasicTicker\",\"id\":\"9b071176-7d1d-4f9f-cf22-f0f60a7fe78e\"},\"plot\":{\"type\":\"Plot\",\"id\":\"c99fd3b5-4e9e-4c5e-cc8a-79856bf688b9\",\"subtype\":\"Figure\"},\"axis_label\":\"Class probabilities (0-1)\",\"formatter\":{\"type\":\"BasicTickFormatter\",\"id\":\"4e562c32-1b5d-4f86-cf7c-34dcb68aa093\"},\"tags\":[]},\"id\":\"1e6375f2-879a-4fbc-cf32-db85c98b2ea3\"},{\"type\":\"Grid\",\"attributes\":{\"id\":\"2cc9952b-efa3-4ade-ca98-de42fd7d0c83\",\"doc\":null,\"plot\":{\"type\":\"Plot\",\"id\":\"c99fd3b5-4e9e-4c5e-cc8a-79856bf688b9\",\"subtype\":\"Figure\"},\"ticker\":{\"type\":\"BasicTicker\",\"id\":\"9b071176-7d1d-4f9f-cf22-f0f60a7fe78e\"},\"dimension\":1,\"tags\":[]},\"id\":\"2cc9952b-efa3-4ade-ca98-de42fd7d0c83\"},{\"type\":\"PanTool\",\"attributes\":{\"id\":\"22df6bfa-d1c6-4952-c948-115b1157bfbb\",\"doc\":null,\"plot\":{\"type\":\"Plot\",\"id\":\"c99fd3b5-4e9e-4c5e-cc8a-79856bf688b9\",\"subtype\":\"Figure\"},\"dimensions\":[\"width\",\"height\"],\"tags\":[]},\"id\":\"22df6bfa-d1c6-4952-c948-115b1157bfbb\"},{\"type\":\"WheelZoomTool\",\"attributes\":{\"id\":\"7a8c4751-aca8-4e7d-ce2f-40887356bef1\",\"doc\":null,\"plot\":{\"type\":\"Plot\",\"id\":\"c99fd3b5-4e9e-4c5e-cc8a-79856bf688b9\",\"subtype\":\"Figure\"},\"dimensions\":[\"width\",\"height\"],\"tags\":[]},\"id\":\"7a8c4751-aca8-4e7d-ce2f-40887356bef1\"},{\"type\":\"BoxZoomTool\",\"attributes\":{\"id\":\"785470dc-e30a-4fcc-cf61-746ac8ae9d1d\",\"plot\":{\"type\":\"Plot\",\"id\":\"c99fd3b5-4e9e-4c5e-cc8a-79856bf688b9\",\"subtype\":\"Figure\"},\"doc\":null,\"tags\":[]},\"id\":\"785470dc-e30a-4fcc-cf61-746ac8ae9d1d\"},{\"type\":\"PreviewSaveTool\",\"attributes\":{\"id\":\"9f0c260f-857e-4fc2-cfe2-ca7c27d764b0\",\"plot\":{\"type\":\"Plot\",\"id\":\"c99fd3b5-4e9e-4c5e-cc8a-79856bf688b9\",\"subtype\":\"Figure\"},\"doc\":null,\"tags\":[]},\"id\":\"9f0c260f-857e-4fc2-cfe2-ca7c27d764b0\"},{\"type\":\"ResizeTool\",\"attributes\":{\"id\":\"3ea77fa0-e66f-421d-c2c8-5112bd04a19f\",\"plot\":{\"type\":\"Plot\",\"id\":\"c99fd3b5-4e9e-4c5e-cc8a-79856bf688b9\",\"subtype\":\"Figure\"},\"doc\":null,\"tags\":[]},\"id\":\"3ea77fa0-e66f-421d-c2c8-5112bd04a19f\"},{\"type\":\"ResetTool\",\"attributes\":{\"id\":\"9cfdc23e-5fa3-454f-c5d0-aea22cc33e50\",\"plot\":{\"type\":\"Plot\",\"id\":\"c99fd3b5-4e9e-4c5e-cc8a-79856bf688b9\",\"subtype\":\"Figure\"},\"doc\":null,\"tags\":[]},\"id\":\"9cfdc23e-5fa3-454f-c5d0-aea22cc33e50\"},{\"type\":\"Plot\",\"attributes\":{\"id\":\"c99fd3b5-4e9e-4c5e-cc8a-79856bf688b9\",\"tools\":[{\"type\":\"PanTool\",\"id\":\"22df6bfa-d1c6-4952-c948-115b1157bfbb\"},{\"type\":\"WheelZoomTool\",\"id\":\"7a8c4751-aca8-4e7d-ce2f-40887356bef1\"},{\"type\":\"BoxZoomTool\",\"id\":\"785470dc-e30a-4fcc-cf61-746ac8ae9d1d\"},{\"type\":\"PreviewSaveTool\",\"id\":\"9f0c260f-857e-4fc2-cfe2-ca7c27d764b0\"},{\"type\":\"ResizeTool\",\"id\":\"3ea77fa0-e66f-421d-c2c8-5112bd04a19f\"},{\"type\":\"ResetTool\",\"id\":\"9cfdc23e-5fa3-454f-c5d0-aea22cc33e50\"}],\"tool_events\":{\"type\":\"ToolEvents\",\"id\":\"532117d5-d79c-4796-c7bf-3da17b27e1c6\"},\"left\":[{\"type\":\"LinearAxis\",\"id\":\"1e6375f2-879a-4fbc-cf32-db85c98b2ea3\"}],\"extra_y_ranges\":{},\"renderers\":[{\"type\":\"GlyphRenderer\",\"id\":\"886957b4-14e5-4b77-cbae-5e2a250b51a7\"},{\"type\":\"LinearAxis\",\"id\":\"a75dc341-fab7-4276-c260-4a3de854ab71\"},{\"type\":\"Grid\",\"id\":\"213105d4-b328-4ff7-cf8f-fa951d414b63\"},{\"type\":\"LinearAxis\",\"id\":\"1e6375f2-879a-4fbc-cf32-db85c98b2ea3\"},{\"type\":\"Grid\",\"id\":\"2cc9952b-efa3-4ade-ca98-de42fd7d0c83\"}],\"title\":\"Class probabilities of a single sample (untrained)\",\"below\":[{\"type\":\"LinearAxis\",\"id\":\"a75dc341-fab7-4276-c260-4a3de854ab71\"}],\"above\":[],\"extra_x_ranges\":{},\"right\":[],\"x_range\":{\"type\":\"DataRange1d\",\"id\":\"f65f45e9-40aa-4c32-cc90-9ff5280d4442\"},\"doc\":null,\"y_range\":{\"type\":\"DataRange1d\",\"id\":\"085f221b-3b47-4e1b-ceb1-2f1e9f8e7fc9\"},\"tags\":[]},\"id\":\"c99fd3b5-4e9e-4c5e-cc8a-79856bf688b9\"}];\n",
       "      Bokeh.load_models(all_models);\n",
       "      var model = Bokeh.Collections(modeltype).get(modelid);\n",
       "      $(\"#14cab9cf-81a0-4088-c0e7-d2a9e38b5a71\").html(''); // clear any previous plot in window_id\n",
       "      var view = new model.default_view({model: model, el: \"#14cab9cf-81a0-4088-c0e7-d2a9e38b5a71\"});\n",
       "  });\n",
       "    }\n",
       "});\n",
       "</script>\n",
       "<div class=\"plotdiv\" id=\"14cab9cf-81a0-4088-c0e7-d2a9e38b5a71\"></div>\n"
      ]
     },
     "metadata": {},
     "output_type": "display_data"
    }
   ],
   "source": [
    "gradParams, loss, prediction = df(params_cnn, trainset.data[1], trainset.label[1])\n",
    "\n",
    "-- Now update the parameters with some learning rate\n",
    "for i=1,#params_cnn do -- loop over each parameter (they're no longer one big tensor)\n",
    "    params_cnn[i]:add(1e-2,gradParams[i]) -- but gradParams is the same size\n",
    "end\n",
    "\n",
    "-- And now make a plot to see what our class probabilities look like\n",
    "classLogProbabilities = predict_cnn(params_cnn, trainset.data[1])\n",
    "classProbabilities = torch.exp(classLogProbabilities) -- we get out log probabilities, but we'd like regular ones\n",
    "p = Plot()\n",
    "    :line(torch.range(1,#classes),classProbabilities)\n",
    "    :yaxis(\"Class probabilities (0-1)\")\n",
    "    :xaxis(\"Class ID\")\n",
    "    :title(\"Class probabilities of a single sample (untrained)\")\n",
    "    :draw();"
   ]
  },
  {
   "cell_type": "markdown",
   "metadata": {},
   "source": [
    "One thing that's trivial in autograd is to add more arithmetic to the model,\n",
    "without having to worry about updating the update step (because that's taken care of for you\n",
    "by using automatic differentiation)"
   ]
  },
  {
   "cell_type": "code",
   "execution_count": 205,
   "metadata": {
    "collapsed": true
   },
   "outputs": [],
   "source": [
    "lambda = 1e-2\n",
    "function f(params, input, target)\n",
    "   prediction = predict_cnn(params, input)\n",
    "   loss = fCriterion(prediction, target)\n",
    "               + lambda*torch.sum(torch.pow(params[1],2)) -- add in some regularization\n",
    "               + lambda*torch.sum(torch.pow(params[3],2))\n",
    "               + lambda*torch.sum(torch.pow(params[5],2))\n",
    "\n",
    "   return loss, prediction\n",
    "end\n",
    "\n",
    "-- Autograd will give you a function that calculates gradients\n",
    "df = grad(f)"
   ]
  },
  {
   "cell_type": "markdown",
   "metadata": {},
   "source": [
    "__Exercise__: Try training with regularization, or make other fun modifications!  \n",
    "\n",
    "Note that it's not too crazy to chain together multiple networks using autograd. Use it as \"neural network glue\"! For instance, for video classification, try merging a CNN with an LSTM."
   ]
  },
  {
   "cell_type": "markdown",
   "metadata": {},
   "source": [
    "**Goals achieved:**\n",
    "* Understand torch and the neural networks package at a high-level.\n",
    "* Train a small neural network on CPU and GPU\n",
    "* Use autograd to take gradients of more complicated functions"
   ]
  },
  {
   "cell_type": "markdown",
   "metadata": {},
   "source": [
    "**What else should I try next?**:\n",
    "\n",
    "* Dig in more to autograd (and join the Slack channel): https://github.com/twitter/torch-autograd\n",
    "* Train on imagenet with multiple GPUs: https://github.com/soumith/imagenet-multiGPU.torch\n",
    "* Train recurrent networks with LSTM on text: https://github.com/wojzaremba/lstm\n",
    "* More demos and tutorials: https://github.com/torch/torch7/wiki/Cheatsheet\n",
    "* Chat with developers of Torch: http://gitter.im/torch/torch7\n",
    "* Ask for help: http://groups.google.com/forum/#!forum/torch7"
   ]
  }
 ],
 "metadata": {
  "kernelspec": {
   "display_name": "iTorch",
   "language": "lua",
   "name": "itorch"
  },
  "language_info": {
   "name": "lua",
   "version": "5.2"
  }
 },
 "nbformat": 4,
 "nbformat_minor": 0
}
