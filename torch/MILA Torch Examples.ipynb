{
 "cells": [
  {
   "cell_type": "code",
   "execution_count": null,
   "metadata": {
    "collapsed": false
   },
   "outputs": [],
   "source": [
    "-- Scalar & tensor arithmetic\n",
    "A = torch.eye(3)\n",
    "b = 4\n",
    "c = 2\n",
    "print(A*b - c)"
   ]
  },
  {
   "cell_type": "code",
   "execution_count": null,
   "metadata": {
    "collapsed": false
   },
   "outputs": [],
   "source": [
    "-- Max\n",
    "print(torch.max(torch.FloatTensor{1,3,5}))"
   ]
  },
  {
   "cell_type": "code",
   "execution_count": null,
   "metadata": {
    "collapsed": false
   },
   "outputs": [],
   "source": [
    "-- Clamp\n",
    "torch.clamp(torch.range(0,4),0,2)"
   ]
  },
  {
   "cell_type": "code",
   "execution_count": null,
   "metadata": {
    "collapsed": false
   },
   "outputs": [],
   "source": [
    "-- Matrix multiply\n",
    "A = torch.eye(3)\n",
    "B = torch.ones(3,1)*3\n",
    "print(A*B)"
   ]
  },
  {
   "cell_type": "code",
   "execution_count": null,
   "metadata": {
    "collapsed": false
   },
   "outputs": [],
   "source": [
    "-- Boolean fns\n",
    "A = torch.range(1,5)\n",
    "print(torch.le(A,3))"
   ]
  },
  {
   "cell_type": "code",
   "execution_count": null,
   "metadata": {
    "collapsed": false
   },
   "outputs": [],
   "source": [
    "-- Special functions\n",
    "require 'cephes'\n",
    "print(cephes.gamma(0.5))"
   ]
  },
  {
   "cell_type": "code",
   "execution_count": null,
   "metadata": {
    "collapsed": false
   },
   "outputs": [],
   "source": [
    "print(cephes.atan2(3,1))"
   ]
  },
  {
   "cell_type": "code",
   "execution_count": null,
   "metadata": {
    "collapsed": false
   },
   "outputs": [],
   "source": [
    "-- Sampling from a distribution\n",
    "require 'randomkit'\n",
    "a = torch.zeros(10000)\n",
    "randomkit.negative_binomial(a,9,0.3)"
   ]
  },
  {
   "cell_type": "code",
   "execution_count": null,
   "metadata": {
    "collapsed": false
   },
   "outputs": [],
   "source": [
    "Plot = require 'itorch.Plot'\n",
    "local p = Plot()\n",
    "    :histogram(a,80,1,80)\n",
    "    :title(\"Histogram of Draws From Negative Binomial\")\n",
    "    :draw();"
   ]
  },
  {
   "cell_type": "code",
   "execution_count": null,
   "metadata": {
    "collapsed": false
   },
   "outputs": [],
   "source": [
    "-- Arithmetic is no problem\n",
    "grad = require 'autograd'\n",
    "function f(a,b,c)\n",
    "    return a + b * c\n",
    "end\n",
    "df = grad(f)\n",
    "da, val = df(3.5, 2.1, 1.1)\n",
    "print(\"Value: \"..val)\n",
    "print(\"Gradient: \"..da)"
   ]
  },
  {
   "cell_type": "code",
   "execution_count": null,
   "metadata": {
    "collapsed": false
   },
   "outputs": [],
   "source": [
    "-- If statements are no problem\n",
    "grad = require 'autograd'\n",
    "function f(a,b,c)\n",
    "    if b > c then\n",
    "        return a * math.sin(b)\n",
    "    else\n",
    "        return a + b * c\n",
    "    end\n",
    "end\n",
    "g = grad(f)\n",
    "da, val = g(3.5, 2.1, 1.1)\n",
    "print(\"Value: \"..val)\n",
    "print(\"Gradient: \"..da)"
   ]
  },
  {
   "cell_type": "code",
   "execution_count": null,
   "metadata": {
    "collapsed": false
   },
   "outputs": [],
   "source": [
    "-- Of course, works with tensors\n",
    "grad = require 'autograd'\n",
    "function f(a,b,c)\n",
    "    if torch.sum(b) > torch.sum(c) then\n",
    "        return torch.sum(torch.cmul(a,torch.sin(b)))\n",
    "    else\n",
    "        return torch.sum(a + torch.cmul(b,c))\n",
    "    end\n",
    "end\n",
    "g = grad(f)\n",
    "a = torch.randn(3,3)\n",
    "b = torch.eye(3,3)\n",
    "c = torch.randn(3,3)\n",
    "da, val = g(a,b,c)\n",
    "print(\"Value: \"..val)\n",
    "print(\"Gradient: \")\n",
    "print(da)"
   ]
  },
  {
   "cell_type": "code",
   "execution_count": null,
   "metadata": {
    "collapsed": false
   },
   "outputs": [],
   "source": [
    "-- Autograd for loop\n",
    "function f(a,b)\n",
    "    for i=1,b do\n",
    "        a = a*a\n",
    "    end\n",
    "    return a\n",
    "end\n",
    "g = grad(f)\n",
    "da, val = g(3,2)\n",
    "print(\"Value: \"..val)\n",
    "print(\"Gradient: \"..da)"
   ]
  },
  {
   "cell_type": "code",
   "execution_count": null,
   "metadata": {
    "collapsed": false
   },
   "outputs": [],
   "source": [
    "-- Autograd recursive function\n",
    "function f(a,b)\n",
    "    if b == 0 then\n",
    "        return a\n",
    "    else\n",
    "        return f(a*a,b-1)\n",
    "    end\n",
    "end\n",
    "g = grad(f)\n",
    "da, val = g(3,2)\n",
    "print(\"Value: \"..val)\n",
    "print(\"Gradient: \"..da)"
   ]
  },
  {
   "cell_type": "code",
   "execution_count": null,
   "metadata": {
    "collapsed": false
   },
   "outputs": [],
   "source": [
    "-- New ops aren't a problem\n",
    "function f(a)\n",
    "    return torch.sum(torch.floor(torch.pow(a,3)))\n",
    "end\n",
    "g = grad(f)\n",
    "da, val = g(torch.eye(3))\n",
    "print(\"Value: \"..val)\n",
    "print(\"Gradient:\")\n",
    "print(da)"
   ]
  },
  {
   "cell_type": "code",
   "execution_count": null,
   "metadata": {
    "collapsed": true
   },
   "outputs": [],
   "source": [
    "-- New ops aren't a problem\n",
    "grad = require 'autograd'\n",
    "special = {}\n",
    "special.floor = function(x) return torch.floor(x) end\n",
    "-- Overload our new mini-module, called \"special\"\n",
    "grad.overload.module(\"special\",special,function(module)\n",
    "    -- Define a gradient for the member function \"floor\"\n",
    "    module.gradient(\"floor\", {\n",
    "                -- Here's our new partial derivative\n",
    "                -- (if we had two arguments, \n",
    "                -- we'd define two functions)\n",
    "                function(g,ans,x) \n",
    "                    return g\n",
    "                end\n",
    "            })\n",
    "    end)"
   ]
  },
  {
   "cell_type": "code",
   "execution_count": null,
   "metadata": {
    "collapsed": false
   },
   "outputs": [],
   "source": [
    "function f(a)\n",
    "    return torch.sum(special.floor(torch.pow(a,3)))\n",
    "end\n",
    "g = grad(f)\n",
    "da, val = g(torch.eye(3))\n",
    "print(\"Value: \"..val)\n",
    "print(\"Gradient:\")\n",
    "print(da)"
   ]
  },
  {
   "cell_type": "code",
   "execution_count": null,
   "metadata": {
    "collapsed": false
   },
   "outputs": [],
   "source": [
    "function f(a,b)\n",
    "    c = a * b\n",
    "    if c > 0 then\n",
    "        d = torch.log(c)\n",
    "    else\n",
    "        d = torch.sin(c)\n",
    "    end\n",
    "    return d\n",
    "end\n",
    "print(f(2,3))"
   ]
  },
  {
   "cell_type": "code",
   "execution_count": null,
   "metadata": {
    "collapsed": false
   },
   "outputs": [],
   "source": [
    "function f(a,b,c)\n",
    "    if b > c then\n",
    "        d = a * math.sin(b)\n",
    "    else\n",
    "        d = a + b * c\n",
    "    end\n",
    "    return d\n",
    "end\n",
    "print(f(3,2,1))"
   ]
  },
  {
   "cell_type": "code",
   "execution_count": null,
   "metadata": {
    "collapsed": false
   },
   "outputs": [],
   "source": [
    "grad = require 'autograd'\n",
    "g = grad(f)\n",
    "print(g(3,2,1))"
   ]
  },
  {
   "cell_type": "raw",
   "metadata": {
    "collapsed": true
   },
   "source": [
    "-- Representation of \"Wengert list\" or \"program\" trace of the evaluation of g(3,2,1)\n",
    "a = 3\n",
    "\n",
    "b = 2\n",
    "\n",
    "c = 1\n",
    "\n",
    "d = a * math.sin(b) = 2.728\n",
    "\n",
    "return 2.728"
   ]
  },
  {
   "cell_type": "raw",
   "metadata": {
    "collapsed": true
   },
   "source": [
    "-- \"Forward mode\" augmentation of the above program trace, for calculation of dd/da\n",
    "a = 3\n",
    "da = 1\n",
    "b = 2\n",
    "db = 0\n",
    "c = 1\n",
    "dc = 0\n",
    "d = a * math.sin(b) = 2.728\n",
    "dd = math.sin(b) = 0.909\n",
    "return 0.909"
   ]
  },
  {
   "cell_type": "raw",
   "metadata": {
    "collapsed": true
   },
   "source": [
    "-- \"Reverse mode\" augmentation of the above program trace, for calculation of dd/da\n",
    "a = 3\n",
    "b = 2\n",
    "c = 1\n",
    "d = a * math.sin(b) = 2.728\n",
    "dd = 1\n",
    "da = dd * math.sin(b) = 0.909\n",
    "return 0.909, 2.728"
   ]
  }
 ],
 "metadata": {
  "kernelspec": {
   "display_name": "iTorch",
   "language": "lua",
   "name": "itorch"
  },
  "language_info": {
   "name": "lua",
   "version": "5.2"
  }
 },
 "nbformat": 4,
 "nbformat_minor": 0
}
